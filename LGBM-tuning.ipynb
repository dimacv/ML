{
 "cells": [
  {
   "cell_type": "code",
   "execution_count": 1,
   "id": "promotional-services",
   "metadata": {
    "execution": {
     "iopub.execute_input": "2021-04-22T11:14:22.826358Z",
     "iopub.status.busy": "2021-04-22T11:14:22.825435Z",
     "iopub.status.idle": "2021-04-22T11:14:22.829201Z",
     "shell.execute_reply": "2021-04-22T11:14:22.828493Z"
    },
    "id": "IU3QDXWZj56H",
    "papermill": {
     "duration": 0.063148,
     "end_time": "2021-04-22T11:14:22.829377",
     "exception": false,
     "start_time": "2021-04-22T11:14:22.766229",
     "status": "completed"
    },
    "tags": []
   },
   "outputs": [],
   "source": [
    "TEST = False\n",
    "\n",
    "WHERE_PLACE = \"kaggle\" #The WHERE_PLACE variable must have the following value:\"local\",\"kaggle\",\"colab\"\n",
    "\n",
    "Phase_1 = False\n",
    "Phase_2 = False\n",
    "NAME_OUTPUT_FILE = 'TPSA_A_LGBM-tuning(v42)'\n",
    "NAME_OUTPUT_FOR_STAKING = 'LGBM_probs_for_staking(v42)'\n",
    "NAME_OUTPUT_FOR_STAKING_TEST = 'LGBM_probs_test_for_staking(v42)'\n",
    "TARGET = 'Survived'\n",
    "INDEX_COL = 'PassengerId'\n",
    "\n",
    "import numpy as np\n",
    "# Range of values for selection in phase 1 :\n",
    "N_ESTIMATORS_RANG = [200000] #[5000] #list(range(4000,5000,100)) # \n",
    "RANG_LEARNING_RATE = list(np.arange(0.000005,0.00004,0.000005)) #[ 0.002] # list(np.arange(0.001,0.1,0.001))  \n",
    "threshold = 0.47231523177731743\n",
    "\n",
    "CV =  10 # 5\n",
    "CV_O =  10 # \n",
    "TEST_SIZE = 0.2\n",
    "\n",
    "N_TRIALS = 100\n",
    "SEED = 2599999\n",
    "GPU = False\n",
    "\n",
    "SELECT_PRED = False\n",
    "SELECT_PRED2 = False\n",
    "\n",
    "# ------------------------------------------------------------------------------\n",
    "# Path definition\n",
    "# ------------------------------------------------------------------------------\n",
    "from pathlib import Path\n",
    "DATA_PATH_Kaggle = Path(\"../input/tabular-playground-series-apr-2021\")\n",
    "DATA_PATH_Colab = Path(\"/content/drive/My Drive/Colab Notebooks/TB2\")\n",
    "LOG_PATH = Path(\"./log/\")\n",
    "NAME_RUN_LOG = 'Run__Logs.log'"
   ]
  },
  {
   "cell_type": "code",
   "execution_count": 2,
   "id": "vital-alabama",
   "metadata": {
    "execution": {
     "iopub.execute_input": "2021-04-22T11:14:22.930015Z",
     "iopub.status.busy": "2021-04-22T11:14:22.929364Z",
     "iopub.status.idle": "2021-04-22T11:14:22.934078Z",
     "shell.execute_reply": "2021-04-22T11:14:22.933561Z"
    },
    "papermill": {
     "duration": 0.058537,
     "end_time": "2021-04-22T11:14:22.934212",
     "exception": false,
     "start_time": "2021-04-22T11:14:22.875675",
     "status": "completed"
    },
    "tags": []
   },
   "outputs": [
    {
     "data": {
      "text/plain": [
       "70"
      ]
     },
     "execution_count": 2,
     "metadata": {},
     "output_type": "execute_result"
    }
   ],
   "source": [
    "(len(N_ESTIMATORS_RANG)*len(RANG_LEARNING_RATE))*CV"
   ]
  },
  {
   "cell_type": "markdown",
   "id": "unsigned-aberdeen",
   "metadata": {
    "papermill": {
     "duration": 0.046446,
     "end_time": "2021-04-22T11:14:23.027612",
     "exception": false,
     "start_time": "2021-04-22T11:14:22.981166",
     "status": "completed"
    },
    "tags": []
   },
   "source": [
    "params = {\n",
    "    'n_estimators': 200000, # 5000,\n",
    "    'learning_rate': 0.00004, # 0.002,\n",
    "    'num_leaves': 246, \n",
    "    'max_bin': 631, \n",
    "    'min_child_samples': 287, \n",
    "    'min_sum_hessian_in_leaf': 36.23686299058342, \n",
    "    'bagging_fraction': 0.9663000952102834, \n",
    "    'feature_fraction': 0.5588941289441328, \n",
    "    'bagging_freq': 51, \n",
    "    'reg_alpha': 10.794311547009851, \n",
    "    'reg_lambda': 0.5872293349946798\n",
    "}"
   ]
  },
  {
   "cell_type": "code",
   "execution_count": 3,
   "id": "cultural-surge",
   "metadata": {
    "execution": {
     "iopub.execute_input": "2021-04-22T11:14:23.133485Z",
     "iopub.status.busy": "2021-04-22T11:14:23.132806Z",
     "iopub.status.idle": "2021-04-22T11:14:23.136299Z",
     "shell.execute_reply": "2021-04-22T11:14:23.135727Z"
    },
    "papermill": {
     "duration": 0.061137,
     "end_time": "2021-04-22T11:14:23.136435",
     "exception": false,
     "start_time": "2021-04-22T11:14:23.075298",
     "status": "completed"
    },
    "tags": []
   },
   "outputs": [],
   "source": [
    "####### Берем полученные наилучшие значения гиперпараметров с прошлых итераций\n",
    "####### Значения получены за несколько полных прогонов в ноутбуке - lightgbm_tuning_2K_W_UN7 :\n",
    "params = {\n",
    "    'n_estimators': 20000, # 5000,\n",
    "    'learning_rate': 0.0004, # 0.002,\n",
    "    'num_leaves': 246, \n",
    "    'max_bin': 631, \n",
    "    'min_child_samples': 287, \n",
    "    'min_sum_hessian_in_leaf': 36.23686299058342, \n",
    "    'bagging_fraction': 0.9663000952102834, \n",
    "    'feature_fraction': 0.5588941289441328, \n",
    "    'bagging_freq': 51, \n",
    "    'reg_alpha': 10.794311547009851, \n",
    "    'reg_lambda': 0.5872293349946798\n",
    "}"
   ]
  },
  {
   "cell_type": "markdown",
   "id": "broadband-tulsa",
   "metadata": {
    "papermill": {
     "duration": 0.047445,
     "end_time": "2021-04-22T11:14:23.231045",
     "exception": false,
     "start_time": "2021-04-22T11:14:23.183600",
     "status": "completed"
    },
    "tags": []
   },
   "source": [
    "len(RANG_LEARNING_RATE),  RANG_LEARNING_RATE"
   ]
  },
  {
   "cell_type": "markdown",
   "id": "governing-spell",
   "metadata": {
    "papermill": {
     "duration": 0.047061,
     "end_time": "2021-04-22T11:14:23.325406",
     "exception": false,
     "start_time": "2021-04-22T11:14:23.278345",
     "status": "completed"
    },
    "tags": []
   },
   "source": [
    "####### Берем полученные наилучшие значения гиперпараметров с прошлых итераций\n",
    "####### Значения получены за несколько полных прогонов в ноутбуке - lightgbm_tuning_2K_W_UN7 :\n",
    "params = {\n",
    "    'n_estimators': 300000, #100000, #200000, # 5000,\n",
    "    'learning_rate': 1e-05,# 3.999999999999999e-05, #0.00004, # 0.002,\n",
    "    'num_leaves': 246, \n",
    "    'max_bin': 631, \n",
    "    'min_child_samples': 287, \n",
    "    'min_sum_hessian_in_leaf': 36.23686299058342, \n",
    "    'bagging_fraction': 0.9663000952102834, \n",
    "    'feature_fraction': 0.5588941289441328, \n",
    "    'bagging_freq': 51, \n",
    "    'reg_alpha': 10.794311547009851, \n",
    "    'reg_lambda': 0.5872293349946798\n",
    "}"
   ]
  },
  {
   "cell_type": "markdown",
   "id": "changed-practice",
   "metadata": {
    "papermill": {
     "duration": 0.04815,
     "end_time": "2021-04-22T11:14:23.420692",
     "exception": false,
     "start_time": "2021-04-22T11:14:23.372542",
     "status": "completed"
    },
    "tags": []
   },
   "source": []
  },
  {
   "cell_type": "markdown",
   "id": "moved-westminster",
   "metadata": {
    "papermill": {
     "duration": 0.046283,
     "end_time": "2021-04-22T11:14:23.513869",
     "exception": false,
     "start_time": "2021-04-22T11:14:23.467586",
     "status": "completed"
    },
    "tags": []
   },
   "source": [
    "####### Берем полученные наилучшие значения гиперпараметров с прошлых итераций\n",
    "####### Значения получены за несколько полных прогонов в ноутбуке - lightgbm_tuning_2K_W_UN7 :\n",
    "params = {\n",
    "    'n_estimators': 20000, # 5000,\n",
    "    'learning_rate': 0.0004, # 0.002,\n",
    "    'num_leaves': 246, \n",
    "    'max_bin': 631, \n",
    "    'min_child_samples': 287, \n",
    "    'min_sum_hessian_in_leaf': 36.23686299058342, \n",
    "    'bagging_fraction': 0.9663000952102834, \n",
    "    'feature_fraction': 0.5588941289441328, \n",
    "    'bagging_freq': 51, \n",
    "    'reg_alpha': 10.794311547009851, \n",
    "    'reg_lambda': 0.5872293349946798\n",
    "}"
   ]
  },
  {
   "cell_type": "code",
   "execution_count": 4,
   "id": "conscious-twins",
   "metadata": {
    "execution": {
     "iopub.execute_input": "2021-04-22T11:14:23.634666Z",
     "iopub.status.busy": "2021-04-22T11:14:23.633937Z",
     "iopub.status.idle": "2021-04-22T11:14:23.645301Z",
     "shell.execute_reply": "2021-04-22T11:14:23.644499Z"
    },
    "id": "otxlKdSTj56b",
    "outputId": "aa5ed5fe-410d-4872-bdd8-9197c83d5a2a",
    "papermill": {
     "duration": 0.084633,
     "end_time": "2021-04-22T11:14:23.645469",
     "exception": false,
     "start_time": "2021-04-22T11:14:23.560836",
     "status": "completed"
    },
    "tags": []
   },
   "outputs": [
    {
     "name": "stdout",
     "output_type": "stream",
     "text": [
      "KAGGLE\n",
      "Время старта скрипта: 22-04-2021 11:14\n"
     ]
    },
    {
     "data": {
      "text/plain": [
       "{'n_estimators': 20000,\n",
       " 'learning_rate': 0.0004,\n",
       " 'num_leaves': 246,\n",
       " 'max_bin': 631,\n",
       " 'min_child_samples': 287,\n",
       " 'min_sum_hessian_in_leaf': 36.23686299058342,\n",
       " 'bagging_fraction': 0.9663000952102834,\n",
       " 'feature_fraction': 0.5588941289441328,\n",
       " 'bagging_freq': 51,\n",
       " 'reg_alpha': 10.794311547009851,\n",
       " 'reg_lambda': 0.5872293349946798}"
      ]
     },
     "execution_count": 4,
     "metadata": {},
     "output_type": "execute_result"
    }
   ],
   "source": [
    "from time import time\n",
    "import datetime\n",
    "start_time = time()\n",
    "\n",
    "if TEST:\n",
    "    params.update({'n_estimators': 5})\n",
    "    NAME_OUTPUT_FILE = '_TEST_' + NAME_OUTPUT_FILE + '_TEST_'\n",
    "    print('**************************************************************')\n",
    "    print('*** TEST mode ***')\n",
    "    print('**************************************************************')\n",
    "    \n",
    "if WHERE_PLACE == \"local\":\n",
    "    input_path = Path('Data')\n",
    "    d_ext = 'csv'\n",
    "    print(\"LOCAL\")\n",
    "elif  WHERE_PLACE == \"kaggle\":\n",
    "    input_path = DATA_PATH_Kaggle\n",
    "    d_ext = 'csv'\n",
    "    print(\"KAGGLE\")\n",
    "elif  WHERE_PLACE == \"colab\":\n",
    "    from google.colab import drive\n",
    "    drive.mount('/content/drive/')\n",
    "    #!ls -al \"/content/drive/My Drive/Colab Notebooks/TB1\"\n",
    "    input_path = DATA_PATH_Colab\n",
    "    d_ext = 'dcv'\n",
    "    !pip install catboost\n",
    "    !pip install optuna\n",
    "    !pip install category_encoders\n",
    "    print(\"Google Colab\")\n",
    "else:\n",
    "    raise Exception('the WHERE_PLACE variable must have the following value: \"local, kaggle, colab\".')\n",
    "    \n",
    "if GPU:\n",
    "    params['device'] = 'gpu'\n",
    "    params['gpu_platform_id'] = 0\n",
    "    params['gpu_device_id'] = 0\n",
    "   ### !pip uninstall lightgbm -y\n",
    "    # install lightgbm GPU\n",
    "  ###  !pip install lightgbm --install-option=--gpu --install-option=\"--opencl-include-dir=/usr/local/cuda/include/\" --install-option=\"--opencl-library=/usr/local/cuda/lib64/libOpenCL.so\"\n",
    "    \n",
    "LOG_PATH.mkdir(parents=True, exist_ok=True)\n",
    "with open(NAME_RUN_LOG, 'at', encoding='utf-8') as logfile:\n",
    "    print('\\n\\n***********************\\n***********************', \n",
    "          file=logfile)\n",
    "    print('Время старта скрипта: {}'.format(datetime.datetime.now().strftime(\"%d-%m-%Y %H:%M\")), \n",
    "          file=logfile)\n",
    "print('Время старта скрипта: {}'.format(datetime.datetime.now().strftime(\"%d-%m-%Y %H:%M\")))\n",
    "    \n",
    "params"
   ]
  },
  {
   "cell_type": "code",
   "execution_count": 5,
   "id": "colored-procurement",
   "metadata": {
    "execution": {
     "iopub.execute_input": "2021-04-22T11:14:23.754830Z",
     "iopub.status.busy": "2021-04-22T11:14:23.754156Z",
     "iopub.status.idle": "2021-04-22T11:14:26.169748Z",
     "shell.execute_reply": "2021-04-22T11:14:26.168972Z"
    },
    "id": "lYBoXTJxj56d",
    "outputId": "1946ec14-3d81-402b-b068-45a01c44e368",
    "papermill": {
     "duration": 2.475547,
     "end_time": "2021-04-22T11:14:26.169889",
     "exception": false,
     "start_time": "2021-04-22T11:14:23.694342",
     "status": "completed"
    },
    "tags": []
   },
   "outputs": [
    {
     "data": {
      "text/html": [
       "<style type='text/css'>\n",
       ".datatable table.frame { margin-bottom: 0; }\n",
       ".datatable table.frame thead { border-bottom: none; }\n",
       ".datatable table.frame tr.coltypes td {  color: #FFFFFF;  line-height: 6px;  padding: 0 0.5em;}\n",
       ".datatable .bool    { background: #DDDD99; }\n",
       ".datatable .object  { background: #565656; }\n",
       ".datatable .int     { background: #5D9E5D; }\n",
       ".datatable .float   { background: #4040CC; }\n",
       ".datatable .str     { background: #CC4040; }\n",
       ".datatable .row_index {  background: var(--jp-border-color3);  border-right: 1px solid var(--jp-border-color0);  color: var(--jp-ui-font-color3);  font-size: 9px;}\n",
       ".datatable .frame tr.coltypes .row_index {  background: var(--jp-border-color0);}\n",
       ".datatable th:nth-child(2) { padding-left: 12px; }\n",
       ".datatable .hellipsis {  color: var(--jp-cell-editor-border-color);}\n",
       ".datatable .vellipsis {  background: var(--jp-layout-color0);  color: var(--jp-cell-editor-border-color);}\n",
       ".datatable .na {  color: var(--jp-cell-editor-border-color);  font-size: 80%;}\n",
       ".datatable .footer { font-size: 9px; }\n",
       ".datatable .frame_dimensions {  background: var(--jp-border-color3);  border-top: 1px solid var(--jp-border-color0);  color: var(--jp-ui-font-color3);  display: inline-block;  opacity: 0.6;  padding: 1px 10px 1px 5px;}\n",
       "</style>\n"
      ],
      "text/plain": [
       "<IPython.core.display.HTML object>"
      ]
     },
     "metadata": {},
     "output_type": "display_data"
    }
   ],
   "source": [
    "# загружаем необходимые библиотеки\n",
    "import pandas as pd\n",
    "from sklearn.model_selection import train_test_split\n",
    "from sklearn.impute import SimpleImputer\n",
    "from sklearn.preprocessing import OneHotEncoder\n",
    "from sklearn.compose import ColumnTransformer\n",
    "from sklearn.pipeline import Pipeline\n",
    "from sklearn.model_selection import GridSearchCV,RandomizedSearchCV\n",
    "from lightgbm import LGBMClassifier\n",
    "from sklearn.preprocessing import OrdinalEncoder\n",
    "from sklearn.metrics import roc_auc_score\n",
    "import optuna\n",
    "from optuna.samplers import RandomSampler\n",
    "from optuna.integration import OptunaSearchCV\n",
    "from optuna.distributions import IntUniformDistribution, UniformDistribution\n",
    "# импортируем класс StandardScaler, позволяющий\n",
    "# выполнить стандартизацию\n",
    "from sklearn.preprocessing import StandardScaler, LabelEncoder\n",
    "from category_encoders import TargetEncoder, OrdinalEncoder, LeaveOneOutEncoder\n",
    "\n",
    "pd.set_option('display.max_columns', 1000)\n",
    "pd.set_option('display.max_rows', 20)\n",
    "\n",
    "# импортируем библиотеку seaborn для нашей \n",
    "# функции diagnostics_skewness()\n",
    "import seaborn as sns\n",
    "import matplotlib.pyplot as plt\n",
    "%matplotlib inline\n",
    "# импортируем модули norm и stats библиотеки scipy для\n",
    "# построения гистограмм и графиков квантиль-квантиль\n",
    "from scipy.stats import norm\n",
    "from scipy import stats\n",
    "\n",
    "from sklearn.metrics import roc_auc_score, roc_curve \n",
    "from sklearn.model_selection import cross_val_predict\n",
    "import scikitplot as skplt\n",
    "import matplotlib.pyplot as plt"
   ]
  },
  {
   "cell_type": "code",
   "execution_count": 6,
   "id": "vanilla-nylon",
   "metadata": {
    "execution": {
     "iopub.execute_input": "2021-04-22T11:14:26.273739Z",
     "iopub.status.busy": "2021-04-22T11:14:26.273111Z",
     "iopub.status.idle": "2021-04-22T11:14:26.654836Z",
     "shell.execute_reply": "2021-04-22T11:14:26.654151Z"
    },
    "id": "_CJf3w1Rj56e",
    "outputId": "c33766b2-a179-4a95-ea16-da37f6ef1116",
    "papermill": {
     "duration": 0.435225,
     "end_time": "2021-04-22T11:14:26.654993",
     "exception": false,
     "start_time": "2021-04-22T11:14:26.219768",
     "status": "completed"
    },
    "tags": []
   },
   "outputs": [
    {
     "data": {
      "text/html": [
       "<div>\n",
       "<style scoped>\n",
       "    .dataframe tbody tr th:only-of-type {\n",
       "        vertical-align: middle;\n",
       "    }\n",
       "\n",
       "    .dataframe tbody tr th {\n",
       "        vertical-align: top;\n",
       "    }\n",
       "\n",
       "    .dataframe thead th {\n",
       "        text-align: right;\n",
       "    }\n",
       "</style>\n",
       "<table border=\"1\" class=\"dataframe\">\n",
       "  <thead>\n",
       "    <tr style=\"text-align: right;\">\n",
       "      <th></th>\n",
       "      <th>Survived</th>\n",
       "      <th>Pclass</th>\n",
       "      <th>Name</th>\n",
       "      <th>Sex</th>\n",
       "      <th>Age</th>\n",
       "      <th>SibSp</th>\n",
       "      <th>Parch</th>\n",
       "      <th>Ticket</th>\n",
       "      <th>Fare</th>\n",
       "      <th>Cabin</th>\n",
       "      <th>Embarked</th>\n",
       "    </tr>\n",
       "    <tr>\n",
       "      <th>PassengerId</th>\n",
       "      <th></th>\n",
       "      <th></th>\n",
       "      <th></th>\n",
       "      <th></th>\n",
       "      <th></th>\n",
       "      <th></th>\n",
       "      <th></th>\n",
       "      <th></th>\n",
       "      <th></th>\n",
       "      <th></th>\n",
       "      <th></th>\n",
       "    </tr>\n",
       "  </thead>\n",
       "  <tbody>\n",
       "    <tr>\n",
       "      <th>0</th>\n",
       "      <td>1</td>\n",
       "      <td>1</td>\n",
       "      <td>Oconnor, Frankie</td>\n",
       "      <td>male</td>\n",
       "      <td>NaN</td>\n",
       "      <td>2</td>\n",
       "      <td>0</td>\n",
       "      <td>209245</td>\n",
       "      <td>27.14</td>\n",
       "      <td>C12239</td>\n",
       "      <td>S</td>\n",
       "    </tr>\n",
       "    <tr>\n",
       "      <th>1</th>\n",
       "      <td>0</td>\n",
       "      <td>3</td>\n",
       "      <td>Bryan, Drew</td>\n",
       "      <td>male</td>\n",
       "      <td>NaN</td>\n",
       "      <td>0</td>\n",
       "      <td>0</td>\n",
       "      <td>27323</td>\n",
       "      <td>13.35</td>\n",
       "      <td>NaN</td>\n",
       "      <td>S</td>\n",
       "    </tr>\n",
       "    <tr>\n",
       "      <th>2</th>\n",
       "      <td>0</td>\n",
       "      <td>3</td>\n",
       "      <td>Owens, Kenneth</td>\n",
       "      <td>male</td>\n",
       "      <td>0.33</td>\n",
       "      <td>1</td>\n",
       "      <td>2</td>\n",
       "      <td>CA 457703</td>\n",
       "      <td>71.29</td>\n",
       "      <td>NaN</td>\n",
       "      <td>S</td>\n",
       "    </tr>\n",
       "    <tr>\n",
       "      <th>3</th>\n",
       "      <td>0</td>\n",
       "      <td>3</td>\n",
       "      <td>Kramer, James</td>\n",
       "      <td>male</td>\n",
       "      <td>19.00</td>\n",
       "      <td>0</td>\n",
       "      <td>0</td>\n",
       "      <td>A. 10866</td>\n",
       "      <td>13.04</td>\n",
       "      <td>NaN</td>\n",
       "      <td>S</td>\n",
       "    </tr>\n",
       "    <tr>\n",
       "      <th>4</th>\n",
       "      <td>1</td>\n",
       "      <td>3</td>\n",
       "      <td>Bond, Michael</td>\n",
       "      <td>male</td>\n",
       "      <td>25.00</td>\n",
       "      <td>0</td>\n",
       "      <td>0</td>\n",
       "      <td>427635</td>\n",
       "      <td>7.76</td>\n",
       "      <td>NaN</td>\n",
       "      <td>S</td>\n",
       "    </tr>\n",
       "    <tr>\n",
       "      <th>...</th>\n",
       "      <td>...</td>\n",
       "      <td>...</td>\n",
       "      <td>...</td>\n",
       "      <td>...</td>\n",
       "      <td>...</td>\n",
       "      <td>...</td>\n",
       "      <td>...</td>\n",
       "      <td>...</td>\n",
       "      <td>...</td>\n",
       "      <td>...</td>\n",
       "      <td>...</td>\n",
       "    </tr>\n",
       "    <tr>\n",
       "      <th>99995</th>\n",
       "      <td>1</td>\n",
       "      <td>2</td>\n",
       "      <td>Bell, Adele</td>\n",
       "      <td>female</td>\n",
       "      <td>62.00</td>\n",
       "      <td>0</td>\n",
       "      <td>0</td>\n",
       "      <td>PC 15008</td>\n",
       "      <td>14.86</td>\n",
       "      <td>D17243</td>\n",
       "      <td>C</td>\n",
       "    </tr>\n",
       "    <tr>\n",
       "      <th>99996</th>\n",
       "      <td>0</td>\n",
       "      <td>2</td>\n",
       "      <td>Brown, Herman</td>\n",
       "      <td>male</td>\n",
       "      <td>66.00</td>\n",
       "      <td>0</td>\n",
       "      <td>0</td>\n",
       "      <td>13273</td>\n",
       "      <td>11.15</td>\n",
       "      <td>NaN</td>\n",
       "      <td>S</td>\n",
       "    </tr>\n",
       "    <tr>\n",
       "      <th>99997</th>\n",
       "      <td>0</td>\n",
       "      <td>3</td>\n",
       "      <td>Childress, Charles</td>\n",
       "      <td>male</td>\n",
       "      <td>37.00</td>\n",
       "      <td>0</td>\n",
       "      <td>0</td>\n",
       "      <td>NaN</td>\n",
       "      <td>9.95</td>\n",
       "      <td>NaN</td>\n",
       "      <td>S</td>\n",
       "    </tr>\n",
       "    <tr>\n",
       "      <th>99998</th>\n",
       "      <td>0</td>\n",
       "      <td>3</td>\n",
       "      <td>Caughlin, Thomas</td>\n",
       "      <td>male</td>\n",
       "      <td>51.00</td>\n",
       "      <td>0</td>\n",
       "      <td>1</td>\n",
       "      <td>458654</td>\n",
       "      <td>30.92</td>\n",
       "      <td>NaN</td>\n",
       "      <td>S</td>\n",
       "    </tr>\n",
       "    <tr>\n",
       "      <th>99999</th>\n",
       "      <td>0</td>\n",
       "      <td>3</td>\n",
       "      <td>Enciso, Tyler</td>\n",
       "      <td>male</td>\n",
       "      <td>55.00</td>\n",
       "      <td>0</td>\n",
       "      <td>0</td>\n",
       "      <td>458074</td>\n",
       "      <td>13.96</td>\n",
       "      <td>NaN</td>\n",
       "      <td>S</td>\n",
       "    </tr>\n",
       "  </tbody>\n",
       "</table>\n",
       "<p>100000 rows × 11 columns</p>\n",
       "</div>"
      ],
      "text/plain": [
       "             Survived  Pclass                Name     Sex    Age  SibSp  \\\n",
       "PassengerId                                                               \n",
       "0                   1       1    Oconnor, Frankie    male    NaN      2   \n",
       "1                   0       3         Bryan, Drew    male    NaN      0   \n",
       "2                   0       3      Owens, Kenneth    male   0.33      1   \n",
       "3                   0       3       Kramer, James    male  19.00      0   \n",
       "4                   1       3       Bond, Michael    male  25.00      0   \n",
       "...               ...     ...                 ...     ...    ...    ...   \n",
       "99995               1       2         Bell, Adele  female  62.00      0   \n",
       "99996               0       2       Brown, Herman    male  66.00      0   \n",
       "99997               0       3  Childress, Charles    male  37.00      0   \n",
       "99998               0       3    Caughlin, Thomas    male  51.00      0   \n",
       "99999               0       3       Enciso, Tyler    male  55.00      0   \n",
       "\n",
       "             Parch     Ticket   Fare   Cabin Embarked  \n",
       "PassengerId                                            \n",
       "0                0     209245  27.14  C12239        S  \n",
       "1                0      27323  13.35     NaN        S  \n",
       "2                2  CA 457703  71.29     NaN        S  \n",
       "3                0   A. 10866  13.04     NaN        S  \n",
       "4                0     427635   7.76     NaN        S  \n",
       "...            ...        ...    ...     ...      ...  \n",
       "99995            0   PC 15008  14.86  D17243        C  \n",
       "99996            0      13273  11.15     NaN        S  \n",
       "99997            0        NaN   9.95     NaN        S  \n",
       "99998            1     458654  30.92     NaN        S  \n",
       "99999            0     458074  13.96     NaN        S  \n",
       "\n",
       "[100000 rows x 11 columns]"
      ]
     },
     "execution_count": 6,
     "metadata": {},
     "output_type": "execute_result"
    }
   ],
   "source": [
    "# увеличиваем количество выводимых столбцов\n",
    "pd.set_option('display.max_columns', 60)\n",
    "# загружаем набор\n",
    "data =  pd.read_csv(input_path / ('train.' + d_ext), index_col=INDEX_COL)\n",
    "data"
   ]
  },
  {
   "cell_type": "code",
   "execution_count": 7,
   "id": "charged-wright",
   "metadata": {
    "execution": {
     "iopub.execute_input": "2021-04-22T11:14:26.804960Z",
     "iopub.status.busy": "2021-04-22T11:14:26.760334Z",
     "iopub.status.idle": "2021-04-22T11:14:26.824431Z",
     "shell.execute_reply": "2021-04-22T11:14:26.823754Z"
    },
    "papermill": {
     "duration": 0.119297,
     "end_time": "2021-04-22T11:14:26.824572",
     "exception": false,
     "start_time": "2021-04-22T11:14:26.705275",
     "status": "completed"
    },
    "tags": []
   },
   "outputs": [
    {
     "name": "stdout",
     "output_type": "stream",
     "text": [
      "<class 'pandas.core.frame.DataFrame'>\n",
      "Int64Index: 100000 entries, 0 to 99999\n",
      "Data columns (total 11 columns):\n",
      " #   Column    Non-Null Count   Dtype  \n",
      "---  ------    --------------   -----  \n",
      " 0   Survived  100000 non-null  int64  \n",
      " 1   Pclass    100000 non-null  int64  \n",
      " 2   Name      100000 non-null  object \n",
      " 3   Sex       100000 non-null  object \n",
      " 4   Age       96708 non-null   float64\n",
      " 5   SibSp     100000 non-null  int64  \n",
      " 6   Parch     100000 non-null  int64  \n",
      " 7   Ticket    95377 non-null   object \n",
      " 8   Fare      99866 non-null   float64\n",
      " 9   Cabin     32134 non-null   object \n",
      " 10  Embarked  99750 non-null   object \n",
      "dtypes: float64(2), int64(4), object(5)\n",
      "memory usage: 9.2+ MB\n"
     ]
    }
   ],
   "source": [
    "# смотрим типы переменных\n",
    "data.info()"
   ]
  },
  {
   "cell_type": "code",
   "execution_count": 8,
   "id": "coated-cache",
   "metadata": {
    "execution": {
     "iopub.execute_input": "2021-04-22T11:14:26.975987Z",
     "iopub.status.busy": "2021-04-22T11:14:26.930754Z",
     "iopub.status.idle": "2021-04-22T11:14:26.984436Z",
     "shell.execute_reply": "2021-04-22T11:14:26.983852Z"
    },
    "papermill": {
     "duration": 0.10927,
     "end_time": "2021-04-22T11:14:26.984570",
     "exception": false,
     "start_time": "2021-04-22T11:14:26.875300",
     "status": "completed"
    },
    "tags": []
   },
   "outputs": [
    {
     "name": "stdout",
     "output_type": "stream",
     "text": [
      "Survived        0\n",
      "Pclass          0\n",
      "Name            0\n",
      "Sex             0\n",
      "Age          3292\n",
      "SibSp           0\n",
      "Parch           0\n",
      "Ticket       4623\n",
      "Fare          134\n",
      "Cabin       67866\n",
      "Embarked      250\n",
      "dtype: int64\n"
     ]
    }
   ],
   "source": [
    "# смотрим еще по другому наличие пропусков\n",
    "print(data.isnull().sum())"
   ]
  },
  {
   "cell_type": "code",
   "execution_count": 9,
   "id": "documented-bandwidth",
   "metadata": {
    "execution": {
     "iopub.execute_input": "2021-04-22T11:14:27.095686Z",
     "iopub.status.busy": "2021-04-22T11:14:27.095067Z",
     "iopub.status.idle": "2021-04-22T11:14:27.142210Z",
     "shell.execute_reply": "2021-04-22T11:14:27.142840Z"
    },
    "papermill": {
     "duration": 0.10804,
     "end_time": "2021-04-22T11:14:27.143028",
     "exception": false,
     "start_time": "2021-04-22T11:14:27.034988",
     "status": "completed"
    },
    "tags": []
   },
   "outputs": [
    {
     "data": {
      "text/html": [
       "<div>\n",
       "<style scoped>\n",
       "    .dataframe tbody tr th:only-of-type {\n",
       "        vertical-align: middle;\n",
       "    }\n",
       "\n",
       "    .dataframe tbody tr th {\n",
       "        vertical-align: top;\n",
       "    }\n",
       "\n",
       "    .dataframe thead th {\n",
       "        text-align: right;\n",
       "    }\n",
       "</style>\n",
       "<table border=\"1\" class=\"dataframe\">\n",
       "  <thead>\n",
       "    <tr style=\"text-align: right;\">\n",
       "      <th></th>\n",
       "      <th>Survived</th>\n",
       "      <th>Pclass</th>\n",
       "      <th>Age</th>\n",
       "      <th>SibSp</th>\n",
       "      <th>Parch</th>\n",
       "      <th>Fare</th>\n",
       "    </tr>\n",
       "  </thead>\n",
       "  <tbody>\n",
       "    <tr>\n",
       "      <th>count</th>\n",
       "      <td>100000.000000</td>\n",
       "      <td>100000.000000</td>\n",
       "      <td>96708.000000</td>\n",
       "      <td>100000.000000</td>\n",
       "      <td>100000.000000</td>\n",
       "      <td>99866.00000</td>\n",
       "    </tr>\n",
       "    <tr>\n",
       "      <th>mean</th>\n",
       "      <td>0.427740</td>\n",
       "      <td>2.106910</td>\n",
       "      <td>38.355472</td>\n",
       "      <td>0.397690</td>\n",
       "      <td>0.454560</td>\n",
       "      <td>43.92933</td>\n",
       "    </tr>\n",
       "    <tr>\n",
       "      <th>std</th>\n",
       "      <td>0.494753</td>\n",
       "      <td>0.837727</td>\n",
       "      <td>18.313556</td>\n",
       "      <td>0.862566</td>\n",
       "      <td>0.950076</td>\n",
       "      <td>69.58882</td>\n",
       "    </tr>\n",
       "    <tr>\n",
       "      <th>min</th>\n",
       "      <td>0.000000</td>\n",
       "      <td>1.000000</td>\n",
       "      <td>0.080000</td>\n",
       "      <td>0.000000</td>\n",
       "      <td>0.000000</td>\n",
       "      <td>0.68000</td>\n",
       "    </tr>\n",
       "    <tr>\n",
       "      <th>25%</th>\n",
       "      <td>0.000000</td>\n",
       "      <td>1.000000</td>\n",
       "      <td>25.000000</td>\n",
       "      <td>0.000000</td>\n",
       "      <td>0.000000</td>\n",
       "      <td>10.04000</td>\n",
       "    </tr>\n",
       "    <tr>\n",
       "      <th>50%</th>\n",
       "      <td>0.000000</td>\n",
       "      <td>2.000000</td>\n",
       "      <td>39.000000</td>\n",
       "      <td>0.000000</td>\n",
       "      <td>0.000000</td>\n",
       "      <td>24.46000</td>\n",
       "    </tr>\n",
       "    <tr>\n",
       "      <th>75%</th>\n",
       "      <td>1.000000</td>\n",
       "      <td>3.000000</td>\n",
       "      <td>53.000000</td>\n",
       "      <td>1.000000</td>\n",
       "      <td>1.000000</td>\n",
       "      <td>33.50000</td>\n",
       "    </tr>\n",
       "    <tr>\n",
       "      <th>max</th>\n",
       "      <td>1.000000</td>\n",
       "      <td>3.000000</td>\n",
       "      <td>87.000000</td>\n",
       "      <td>8.000000</td>\n",
       "      <td>9.000000</td>\n",
       "      <td>744.66000</td>\n",
       "    </tr>\n",
       "  </tbody>\n",
       "</table>\n",
       "</div>"
      ],
      "text/plain": [
       "            Survived         Pclass           Age          SibSp  \\\n",
       "count  100000.000000  100000.000000  96708.000000  100000.000000   \n",
       "mean        0.427740       2.106910     38.355472       0.397690   \n",
       "std         0.494753       0.837727     18.313556       0.862566   \n",
       "min         0.000000       1.000000      0.080000       0.000000   \n",
       "25%         0.000000       1.000000     25.000000       0.000000   \n",
       "50%         0.000000       2.000000     39.000000       0.000000   \n",
       "75%         1.000000       3.000000     53.000000       1.000000   \n",
       "max         1.000000       3.000000     87.000000       8.000000   \n",
       "\n",
       "               Parch         Fare  \n",
       "count  100000.000000  99866.00000  \n",
       "mean        0.454560     43.92933  \n",
       "std         0.950076     69.58882  \n",
       "min         0.000000      0.68000  \n",
       "25%         0.000000     10.04000  \n",
       "50%         0.000000     24.46000  \n",
       "75%         1.000000     33.50000  \n",
       "max         9.000000    744.66000  "
      ]
     },
     "execution_count": 9,
     "metadata": {},
     "output_type": "execute_result"
    }
   ],
   "source": [
    "data.describe()"
   ]
  },
  {
   "cell_type": "code",
   "execution_count": 10,
   "id": "dental-wilderness",
   "metadata": {
    "execution": {
     "iopub.execute_input": "2021-04-22T11:14:27.249499Z",
     "iopub.status.busy": "2021-04-22T11:14:27.248879Z",
     "iopub.status.idle": "2021-04-22T11:14:27.252060Z",
     "shell.execute_reply": "2021-04-22T11:14:27.251568Z"
    },
    "id": "AaNAOFfSj56e",
    "papermill": {
     "duration": 0.058403,
     "end_time": "2021-04-22T11:14:27.252188",
     "exception": false,
     "start_time": "2021-04-22T11:14:27.193785",
     "status": "completed"
    },
    "tags": []
   },
   "outputs": [],
   "source": [
    "if TEST:\n",
    "    data = data[:5000]\n",
    "    print(\"TEST MODE, Data shape = \",data.shape)"
   ]
  },
  {
   "cell_type": "code",
   "execution_count": 11,
   "id": "essential-eight",
   "metadata": {
    "execution": {
     "iopub.execute_input": "2021-04-22T11:14:27.358276Z",
     "iopub.status.busy": "2021-04-22T11:14:27.357598Z",
     "iopub.status.idle": "2021-04-22T11:14:27.365402Z",
     "shell.execute_reply": "2021-04-22T11:14:27.364616Z"
    },
    "papermill": {
     "duration": 0.063351,
     "end_time": "2021-04-22T11:14:27.365544",
     "exception": false,
     "start_time": "2021-04-22T11:14:27.302193",
     "status": "completed"
    },
    "tags": []
   },
   "outputs": [
    {
     "data": {
      "text/plain": [
       "0    57226\n",
       "1    42774\n",
       "Name: Survived, dtype: int64"
      ]
     },
     "execution_count": 11,
     "metadata": {},
     "output_type": "execute_result"
    }
   ],
   "source": [
    "data[TARGET].value_counts()"
   ]
  },
  {
   "cell_type": "code",
   "execution_count": 12,
   "id": "interpreted-spelling",
   "metadata": {
    "execution": {
     "iopub.execute_input": "2021-04-22T11:14:27.482948Z",
     "iopub.status.busy": "2021-04-22T11:14:27.482271Z",
     "iopub.status.idle": "2021-04-22T11:14:27.607770Z",
     "shell.execute_reply": "2021-04-22T11:14:27.607099Z"
    },
    "papermill": {
     "duration": 0.189722,
     "end_time": "2021-04-22T11:14:27.607915",
     "exception": false,
     "start_time": "2021-04-22T11:14:27.418193",
     "status": "completed"
    },
    "tags": []
   },
   "outputs": [
    {
     "data": {
      "text/plain": [
       "Name        92144\n",
       "Ticket      75331\n",
       "Cabin       26992\n",
       "Embarked        3\n",
       "Sex             2\n",
       "dtype: int64"
      ]
     },
     "execution_count": 12,
     "metadata": {},
     "output_type": "execute_result"
    }
   ],
   "source": [
    "# Смотрим на количество уникальных значений для категориальных столбцов\n",
    "data[data.dtypes[data.dtypes == 'object'].index].nunique().sort_values(ascending=False)"
   ]
  },
  {
   "cell_type": "code",
   "execution_count": 13,
   "id": "numeric-mills",
   "metadata": {
    "execution": {
     "iopub.execute_input": "2021-04-22T11:14:27.721287Z",
     "iopub.status.busy": "2021-04-22T11:14:27.720525Z",
     "iopub.status.idle": "2021-04-22T11:14:27.738674Z",
     "shell.execute_reply": "2021-04-22T11:14:27.737994Z"
    },
    "papermill": {
     "duration": 0.079003,
     "end_time": "2021-04-22T11:14:27.738833",
     "exception": false,
     "start_time": "2021-04-22T11:14:27.659830",
     "status": "completed"
    },
    "tags": []
   },
   "outputs": [
    {
     "data": {
      "text/plain": [
       "Fare        15935\n",
       "Age           173\n",
       "Parch           8\n",
       "SibSp           7\n",
       "Pclass          3\n",
       "Survived        2\n",
       "dtype: int64"
      ]
     },
     "execution_count": 13,
     "metadata": {},
     "output_type": "execute_result"
    }
   ],
   "source": [
    "# Смотрим на количество уникальных значений для численных столбцов\n",
    "data[data.dtypes[data.dtypes != 'object'].index].nunique().sort_values(ascending=False)"
   ]
  },
  {
   "cell_type": "code",
   "execution_count": 14,
   "id": "durable-administrator",
   "metadata": {
    "execution": {
     "iopub.execute_input": "2021-04-22T11:14:27.891644Z",
     "iopub.status.busy": "2021-04-22T11:14:27.890925Z",
     "iopub.status.idle": "2021-04-22T11:14:28.103332Z",
     "shell.execute_reply": "2021-04-22T11:14:28.103881Z"
    },
    "papermill": {
     "duration": 0.313083,
     "end_time": "2021-04-22T11:14:28.104054",
     "exception": false,
     "start_time": "2021-04-22T11:14:27.790971",
     "status": "completed"
    },
    "tags": []
   },
   "outputs": [
    {
     "name": "stdout",
     "output_type": "stream",
     "text": [
      "Johnson, John         31\n",
      "Smith, James          24\n",
      "Smith, John           24\n",
      "Johnson, William      22\n",
      "Smith, Michael        20\n",
      "                      ..\n",
      "Hinson, Irene          1\n",
      "Tinsley, Susan         1\n",
      "Sledge, Gary           1\n",
      "Phillips, Benjamin     1\n",
      "Vedder, Trey           1\n",
      "Name: Name, Length: 92144, dtype: int64\n",
      "male      56114\n",
      "female    43886\n",
      "Name: Sex, dtype: int64\n",
      "NaN              4623\n",
      "A/5               602\n",
      "C.A.              177\n",
      "SC/PARIS          145\n",
      "SOTON/O.Q.         80\n",
      "                 ... \n",
      "326248              1\n",
      "32944               1\n",
      "46023               1\n",
      "STON/O 432207       1\n",
      "W./C. 326044        1\n",
      "Name: Ticket, Length: 75332, dtype: int64\n",
      "NaN       67866\n",
      "C19828        6\n",
      "C11283        5\n",
      "B11110        5\n",
      "C13699        5\n",
      "          ...  \n",
      "C3851         1\n",
      "A3420         1\n",
      "E16183        1\n",
      "D14693        1\n",
      "A14341        1\n",
      "Name: Cabin, Length: 26993, dtype: int64\n",
      "S      72139\n",
      "C      22187\n",
      "Q       5424\n",
      "NaN      250\n",
      "Name: Embarked, dtype: int64\n"
     ]
    }
   ],
   "source": [
    "# смотрим частоты категорий ( переменных c типом 'object' )\n",
    "for col in data.dtypes[data.dtypes == 'object'].index:\n",
    "    print(data[col].value_counts(dropna=False))"
   ]
  },
  {
   "cell_type": "markdown",
   "id": "neural-trust",
   "metadata": {
    "papermill": {
     "duration": 0.054876,
     "end_time": "2021-04-22T11:14:28.215317",
     "exception": false,
     "start_time": "2021-04-22T11:14:28.160441",
     "status": "completed"
    },
    "tags": []
   },
   "source": [
    "# смотрим дублирующие наблюдения:\n",
    "display(data[data.duplicated(keep=False)])\n",
    "\n",
    "#удаляем дубли на месте, оставляя первое встретившееся наблюдение:\n",
    "data = data.drop_duplicates(subset=None,keep='first')\n",
    "\n",
    "# смотрим снова дублирующие наблюдения:\n",
    "data[data.duplicated(keep=False)]"
   ]
  },
  {
   "cell_type": "code",
   "execution_count": 15,
   "id": "missing-prairie",
   "metadata": {
    "execution": {
     "iopub.execute_input": "2021-04-22T11:14:28.330014Z",
     "iopub.status.busy": "2021-04-22T11:14:28.329348Z",
     "iopub.status.idle": "2021-04-22T11:14:28.349360Z",
     "shell.execute_reply": "2021-04-22T11:14:28.348763Z"
    },
    "papermill": {
     "duration": 0.079589,
     "end_time": "2021-04-22T11:14:28.349489",
     "exception": false,
     "start_time": "2021-04-22T11:14:28.269900",
     "status": "completed"
    },
    "tags": []
   },
   "outputs": [
    {
     "name": "stdout",
     "output_type": "stream",
     "text": [
      "0    57226\n",
      "1    42774\n",
      "Name: Survived, dtype: int64\n",
      "3    41006\n",
      "1    30315\n",
      "2    28679\n",
      "Name: Pclass, dtype: int64\n",
      "NaN     3292\n",
      "25.0    2354\n",
      "23.0    2345\n",
      "26.0    2320\n",
      "24.0    2298\n",
      "        ... \n",
      "78.5       1\n",
      "80.5       1\n",
      "14.5       1\n",
      "13.5       1\n",
      "87.0       1\n",
      "Name: Age, Length: 174, dtype: int64\n",
      "0    73308\n",
      "1    19758\n",
      "2     3703\n",
      "3     1635\n",
      "4     1168\n",
      "8      296\n",
      "5      132\n",
      "Name: SibSp, dtype: int64\n",
      "0    73540\n",
      "1    12996\n",
      "2    11236\n",
      "3      983\n",
      "4      446\n",
      "5      331\n",
      "9      264\n",
      "6      204\n",
      "Name: Parch, dtype: int64\n",
      "NaN       134\n",
      "9.85       87\n",
      "9.27       87\n",
      "9.79       86\n",
      "9.20       85\n",
      "         ... \n",
      "142.19      1\n",
      "161.04      1\n",
      "290.84      1\n",
      "217.63      1\n",
      "55.06       1\n",
      "Name: Fare, Length: 15936, dtype: int64\n"
     ]
    }
   ],
   "source": [
    "# смотрим частоты числовых значений\n",
    "for col in data.dtypes[data.dtypes != 'object'].index:\n",
    "    print(data[col].value_counts(dropna=False))"
   ]
  },
  {
   "cell_type": "code",
   "execution_count": 16,
   "id": "flying-bubble",
   "metadata": {
    "execution": {
     "iopub.execute_input": "2021-04-22T11:14:28.511929Z",
     "iopub.status.busy": "2021-04-22T11:14:28.465964Z",
     "iopub.status.idle": "2021-04-22T11:14:28.520046Z",
     "shell.execute_reply": "2021-04-22T11:14:28.519526Z"
    },
    "papermill": {
     "duration": 0.115894,
     "end_time": "2021-04-22T11:14:28.520191",
     "exception": false,
     "start_time": "2021-04-22T11:14:28.404297",
     "status": "completed"
    },
    "tags": []
   },
   "outputs": [
    {
     "name": "stdout",
     "output_type": "stream",
     "text": [
      "Survived        0\n",
      "Pclass          0\n",
      "Name            0\n",
      "Sex             0\n",
      "Age          3292\n",
      "SibSp           0\n",
      "Parch           0\n",
      "Ticket       4623\n",
      "Fare          134\n",
      "Cabin       67866\n",
      "Embarked      250\n",
      "dtype: int64\n"
     ]
    }
   ],
   "source": [
    "# смотрим еще наличие пропусков\n",
    "print(data.isnull().sum())"
   ]
  },
  {
   "cell_type": "markdown",
   "id": "frank-coast",
   "metadata": {
    "papermill": {
     "duration": 0.054918,
     "end_time": "2021-04-22T11:14:28.630480",
     "exception": false,
     "start_time": "2021-04-22T11:14:28.575562",
     "status": "completed"
    },
    "tags": []
   },
   "source": [
    "# Оценим графически распределение переменных :"
   ]
  },
  {
   "cell_type": "code",
   "execution_count": 17,
   "id": "fatty-contact",
   "metadata": {
    "execution": {
     "iopub.execute_input": "2021-04-22T11:14:28.748980Z",
     "iopub.status.busy": "2021-04-22T11:14:28.747974Z",
     "iopub.status.idle": "2021-04-22T11:14:28.752239Z",
     "shell.execute_reply": "2021-04-22T11:14:28.751626Z"
    },
    "papermill": {
     "duration": 0.066725,
     "end_time": "2021-04-22T11:14:28.752383",
     "exception": false,
     "start_time": "2021-04-22T11:14:28.685658",
     "status": "completed"
    },
    "tags": []
   },
   "outputs": [],
   "source": [
    "# функция, которая строит гистограммы\n",
    "# распределения и графики квантиль-квантиль\n",
    "def plot_hist(df):\n",
    "    # создаем копию датафрейма\n",
    "    df_ = df.copy()\n",
    "    # отбираем столбцы, у которых больше 3 уникальных значений\n",
    "    df_ = df_.loc[:, df.apply(pd.Series.nunique) > 3]\n",
    "    # из этих столбцов отбираем только количественные\n",
    "    #num_cols = df_.select_dtypes(include=['number']).columns\n",
    "    #num_cols = df_.select_dtypes(exclude='object').columns.tolist()\n",
    "    num_cols = df_.dtypes[data.dtypes != 'object'].index.tolist()\n",
    "    for col in num_cols:\n",
    "        df_[col].fillna(df_[col].median(), inplace=True)\n",
    "        # строим гистограмму\n",
    "        sns.distplot(df_[col], fit=norm)\n",
    "        fig = plt.figure();\n",
    "        # строим график квантиль-квантиль\n",
    "        stats.probplot(df_[col], plot=plt)\n",
    "        fig = plt.figure();"
   ]
  },
  {
   "cell_type": "code",
   "execution_count": 18,
   "id": "descending-executive",
   "metadata": {
    "execution": {
     "iopub.execute_input": "2021-04-22T11:14:28.866888Z",
     "iopub.status.busy": "2021-04-22T11:14:28.866127Z",
     "iopub.status.idle": "2021-04-22T11:14:33.671137Z",
     "shell.execute_reply": "2021-04-22T11:14:33.670610Z"
    },
    "papermill": {
     "duration": 4.864217,
     "end_time": "2021-04-22T11:14:33.671281",
     "exception": false,
     "start_time": "2021-04-22T11:14:28.807064",
     "status": "completed"
    },
    "scrolled": true,
    "tags": []
   },
   "outputs": [
    {
     "name": "stderr",
     "output_type": "stream",
     "text": [
      "/opt/conda/lib/python3.7/site-packages/seaborn/distributions.py:2557: FutureWarning: `distplot` is a deprecated function and will be removed in a future version. Please adapt your code to use either `displot` (a figure-level function with similar flexibility) or `histplot` (an axes-level function for histograms).\n",
      "  warnings.warn(msg, FutureWarning)\n",
      "/opt/conda/lib/python3.7/site-packages/seaborn/distributions.py:2557: FutureWarning: `distplot` is a deprecated function and will be removed in a future version. Please adapt your code to use either `displot` (a figure-level function with similar flexibility) or `histplot` (an axes-level function for histograms).\n",
      "  warnings.warn(msg, FutureWarning)\n",
      "/opt/conda/lib/python3.7/site-packages/seaborn/distributions.py:2557: FutureWarning: `distplot` is a deprecated function and will be removed in a future version. Please adapt your code to use either `displot` (a figure-level function with similar flexibility) or `histplot` (an axes-level function for histograms).\n",
      "  warnings.warn(msg, FutureWarning)\n",
      "/opt/conda/lib/python3.7/site-packages/seaborn/distributions.py:2557: FutureWarning: `distplot` is a deprecated function and will be removed in a future version. Please adapt your code to use either `displot` (a figure-level function with similar flexibility) or `histplot` (an axes-level function for histograms).\n",
      "  warnings.warn(msg, FutureWarning)\n"
     ]
    },
    {
     "data": {
      "image/png": "[encoded data removed]",
      "text/plain": [
       "<Figure size 432x288 with 1 Axes>"
      ]
     },
     "metadata": {
      "needs_background": "light"
     },
     "output_type": "display_data"
    },
    {
     "data": {
      "image/png": "[encoded data removed]",
      "text/plain": [
       "<Figure size 432x288 with 1 Axes>"
      ]
     },
     "metadata": {
      "needs_background": "light"
     },
     "output_type": "display_data"
    },
    {
     "data": {
      "image/png": "[encoded data removed]",
      "text/plain": [
       "<Figure size 432x288 with 1 Axes>"
      ]
     },
     "metadata": {
      "needs_background": "light"
     },
     "output_type": "display_data"
    },
    {
     "data": {
      "image/png": "[encoded data removed]",
      "text/plain": [
       "<Figure size 432x288 with 1 Axes>"
      ]
     },
     "metadata": {
      "needs_background": "light"
     },
     "output_type": "display_data"
    },
    {
     "data": {
      "image/png": "[encoded data removed]",
      "text/plain": [
       "<Figure size 432x288 with 1 Axes>"
      ]
     },
     "metadata": {
      "needs_background": "light"
     },
     "output_type": "display_data"
    },
    {
     "data": {
      "image/png": "[encoded data removed]",
      "text/plain": [
       "<Figure size 432x288 with 1 Axes>"
      ]
     },
     "metadata": {
      "needs_background": "light"
     },
     "output_type": "display_data"
    },
    {
     "data": {
      "image/png": "[encoded data removed]",
      "text/plain": [
       "<Figure size 432x288 with 1 Axes>"
      ]
     },
     "metadata": {
      "needs_background": "light"
     },
     "output_type": "display_data"
    },
    {
     "data": {
      "image/png": "[encoded data removed]",
      "text/plain": [
       "<Figure size 432x288 with 1 Axes>"
      ]
     },
     "metadata": {
      "needs_background": "light"
     },
     "output_type": "display_data"
    },
    {
     "data": {
      "text/plain": [
       "<Figure size 432x288 with 0 Axes>"
      ]
     },
     "metadata": {},
     "output_type": "display_data"
    }
   ],
   "source": [
    "# применяем функцию plot_hist()\n",
    "plot_hist(data)"
   ]
  },
  {
   "cell_type": "code",
   "execution_count": null,
   "id": "parental-worship",
   "metadata": {
    "papermill": {
     "duration": 0.061548,
     "end_time": "2021-04-22T11:14:33.795651",
     "exception": false,
     "start_time": "2021-04-22T11:14:33.734103",
     "status": "completed"
    },
    "tags": []
   },
   "outputs": [],
   "source": []
  },
  {
   "cell_type": "code",
   "execution_count": 19,
   "id": "stable-reward",
   "metadata": {
    "execution": {
     "iopub.execute_input": "2021-04-22T11:14:33.925420Z",
     "iopub.status.busy": "2021-04-22T11:14:33.924741Z",
     "iopub.status.idle": "2021-04-22T11:14:34.266001Z",
     "shell.execute_reply": "2021-04-22T11:14:34.265293Z"
    },
    "papermill": {
     "duration": 0.408244,
     "end_time": "2021-04-22T11:14:34.266146",
     "exception": false,
     "start_time": "2021-04-22T11:14:33.857902",
     "status": "completed"
    },
    "tags": []
   },
   "outputs": [],
   "source": [
    "# загружаем тестовый  набор\n",
    "test_o =  pd.read_csv(input_path / ('test.' + d_ext), index_col=INDEX_COL)\n",
    "# If selection of predictors\n",
    "if SELECT_PRED or SELECT_PRED2:\n",
    "    test_o = test[SELECTED_FEATURES]"
   ]
  },
  {
   "cell_type": "code",
   "execution_count": 20,
   "id": "signed-municipality",
   "metadata": {
    "execution": {
     "iopub.execute_input": "2021-04-22T11:14:34.397426Z",
     "iopub.status.busy": "2021-04-22T11:14:34.396764Z",
     "iopub.status.idle": "2021-04-22T11:14:34.417143Z",
     "shell.execute_reply": "2021-04-22T11:14:34.416229Z"
    },
    "papermill": {
     "duration": 0.08924,
     "end_time": "2021-04-22T11:14:34.417361",
     "exception": false,
     "start_time": "2021-04-22T11:14:34.328121",
     "status": "completed"
    },
    "tags": []
   },
   "outputs": [
    {
     "data": {
      "text/plain": [
       "(Index(['Survived', 'Pclass', 'Sex', 'Age', 'SibSp', 'Parch', 'Ticket', 'Fare',\n",
       "        'Cabin', 'Embarked'],\n",
       "       dtype='object'),\n",
       " Index(['Pclass', 'Sex', 'Age', 'SibSp', 'Parch', 'Ticket', 'Fare', 'Cabin',\n",
       "        'Embarked'],\n",
       "       dtype='object'))"
      ]
     },
     "execution_count": 20,
     "metadata": {},
     "output_type": "execute_result"
    }
   ],
   "source": [
    "# Удаление бесполезных переменных\n",
    "data = data.drop('Name',axis=1)\n",
    "test_o = test_o.drop('Name',axis=1)\n",
    "\n",
    "data.columns, test_o.columns"
   ]
  },
  {
   "cell_type": "markdown",
   "id": "contained-travel",
   "metadata": {
    "papermill": {
     "duration": 0.062644,
     "end_time": "2021-04-22T11:14:34.543115",
     "exception": false,
     "start_time": "2021-04-22T11:14:34.480471",
     "status": "completed"
    },
    "tags": []
   },
   "source": [
    "# Конструирование признаков которое можно делать до разбиения на  train/test"
   ]
  },
  {
   "cell_type": "code",
   "execution_count": 21,
   "id": "organizational-paraguay",
   "metadata": {
    "execution": {
     "iopub.execute_input": "2021-04-22T11:14:34.680284Z",
     "iopub.status.busy": "2021-04-22T11:14:34.678519Z",
     "iopub.status.idle": "2021-04-22T11:14:35.057077Z",
     "shell.execute_reply": "2021-04-22T11:14:35.055942Z"
    },
    "papermill": {
     "duration": 0.450624,
     "end_time": "2021-04-22T11:14:35.057279",
     "exception": false,
     "start_time": "2021-04-22T11:14:34.606655",
     "status": "completed"
    },
    "tags": []
   },
   "outputs": [
    {
     "name": "stdout",
     "output_type": "stream",
     "text": [
      "(100000, 10) (100000, 10)\n"
     ]
    }
   ],
   "source": [
    "############## ref.: https://www.kaggle.com/jmargni/tps-apr-2021-lightgbm-cv\n",
    "############## https://www.kaggle.com/alexryzhkov/n3-tps-april-21-lightautoml-starter?scriptVersionId=59046001\n",
    "\n",
    "def create_extra_features(data):\n",
    "    # Age fillna with mean age for each class\n",
    "    age_map = data[['Age', 'Pclass']].dropna().groupby('Pclass').mean().to_dict()\n",
    "    data.Age = data.Age.fillna(data.Pclass.map(age_map['Age']))\n",
    "\n",
    "    # Cabin, fillna with 'X' and take first letter\n",
    "    data.Cabin = data.Cabin.map(lambda x: str(x)[0].strip())\n",
    "\n",
    "    # Ticket, fillna with 'X', split string and take first split \n",
    "    data.Ticket = data.Ticket.map(lambda x:str(x).split()[0] if len(str(x).split()) > 1 else 'X')\n",
    "\n",
    "    # Fare, fillna with mean value\n",
    "    # (THE ONLY FILLNA LEFT BECAUSE HERE WE USE TEST DATASET - LightAutoML can't do it in real life because of strict distinction between train and test stages)\n",
    "    data.Fare = data.Fare.fillna(data.Fare.mean())\n",
    "\n",
    "    # Embarked, fillna with 'X' value\n",
    "    all_df.Embarked = all_df.Embarked.fillna('X')\n",
    "\n",
    "    # Name, take only surnames\n",
    "    #data.Name = data.Name.map(lambda x: str(x).split(',')[0])\n",
    "    return data\n",
    "\n",
    "\n",
    "all_df = pd.concat([data, test_o]).reset_index(drop = True)\n",
    "all_df = create_extra_features(all_df)\n",
    "data, test_o = all_df[:len(data)], all_df[len(data):]\n",
    "print(data.shape, test_o.shape)\n",
    "\n",
    "test_o = test_o.drop('Survived',axis=1) "
   ]
  },
  {
   "cell_type": "code",
   "execution_count": 22,
   "id": "enhanced-publicity",
   "metadata": {
    "execution": {
     "iopub.execute_input": "2021-04-22T11:14:35.191867Z",
     "iopub.status.busy": "2021-04-22T11:14:35.191189Z",
     "iopub.status.idle": "2021-04-22T11:14:35.213881Z",
     "shell.execute_reply": "2021-04-22T11:14:35.214383Z"
    },
    "papermill": {
     "duration": 0.09171,
     "end_time": "2021-04-22T11:14:35.214552",
     "exception": false,
     "start_time": "2021-04-22T11:14:35.122842",
     "status": "completed"
    },
    "tags": []
   },
   "outputs": [
    {
     "data": {
      "text/html": [
       "<div>\n",
       "<style scoped>\n",
       "    .dataframe tbody tr th:only-of-type {\n",
       "        vertical-align: middle;\n",
       "    }\n",
       "\n",
       "    .dataframe tbody tr th {\n",
       "        vertical-align: top;\n",
       "    }\n",
       "\n",
       "    .dataframe thead th {\n",
       "        text-align: right;\n",
       "    }\n",
       "</style>\n",
       "<table border=\"1\" class=\"dataframe\">\n",
       "  <thead>\n",
       "    <tr style=\"text-align: right;\">\n",
       "      <th></th>\n",
       "      <th>Survived</th>\n",
       "      <th>Pclass</th>\n",
       "      <th>Sex</th>\n",
       "      <th>Age</th>\n",
       "      <th>SibSp</th>\n",
       "      <th>Parch</th>\n",
       "      <th>Ticket</th>\n",
       "      <th>Fare</th>\n",
       "      <th>Cabin</th>\n",
       "      <th>Embarked</th>\n",
       "    </tr>\n",
       "  </thead>\n",
       "  <tbody>\n",
       "    <tr>\n",
       "      <th>0</th>\n",
       "      <td>1.0</td>\n",
       "      <td>1</td>\n",
       "      <td>male</td>\n",
       "      <td>40.672757</td>\n",
       "      <td>2</td>\n",
       "      <td>0</td>\n",
       "      <td>X</td>\n",
       "      <td>27.14</td>\n",
       "      <td>C</td>\n",
       "      <td>S</td>\n",
       "    </tr>\n",
       "    <tr>\n",
       "      <th>1</th>\n",
       "      <td>0.0</td>\n",
       "      <td>3</td>\n",
       "      <td>male</td>\n",
       "      <td>30.205570</td>\n",
       "      <td>0</td>\n",
       "      <td>0</td>\n",
       "      <td>X</td>\n",
       "      <td>13.35</td>\n",
       "      <td>n</td>\n",
       "      <td>S</td>\n",
       "    </tr>\n",
       "    <tr>\n",
       "      <th>2</th>\n",
       "      <td>0.0</td>\n",
       "      <td>3</td>\n",
       "      <td>male</td>\n",
       "      <td>0.330000</td>\n",
       "      <td>1</td>\n",
       "      <td>2</td>\n",
       "      <td>CA</td>\n",
       "      <td>71.29</td>\n",
       "      <td>n</td>\n",
       "      <td>S</td>\n",
       "    </tr>\n",
       "    <tr>\n",
       "      <th>3</th>\n",
       "      <td>0.0</td>\n",
       "      <td>3</td>\n",
       "      <td>male</td>\n",
       "      <td>19.000000</td>\n",
       "      <td>0</td>\n",
       "      <td>0</td>\n",
       "      <td>A.</td>\n",
       "      <td>13.04</td>\n",
       "      <td>n</td>\n",
       "      <td>S</td>\n",
       "    </tr>\n",
       "    <tr>\n",
       "      <th>4</th>\n",
       "      <td>1.0</td>\n",
       "      <td>3</td>\n",
       "      <td>male</td>\n",
       "      <td>25.000000</td>\n",
       "      <td>0</td>\n",
       "      <td>0</td>\n",
       "      <td>X</td>\n",
       "      <td>7.76</td>\n",
       "      <td>n</td>\n",
       "      <td>S</td>\n",
       "    </tr>\n",
       "    <tr>\n",
       "      <th>...</th>\n",
       "      <td>...</td>\n",
       "      <td>...</td>\n",
       "      <td>...</td>\n",
       "      <td>...</td>\n",
       "      <td>...</td>\n",
       "      <td>...</td>\n",
       "      <td>...</td>\n",
       "      <td>...</td>\n",
       "      <td>...</td>\n",
       "      <td>...</td>\n",
       "    </tr>\n",
       "    <tr>\n",
       "      <th>99995</th>\n",
       "      <td>1.0</td>\n",
       "      <td>2</td>\n",
       "      <td>female</td>\n",
       "      <td>62.000000</td>\n",
       "      <td>0</td>\n",
       "      <td>0</td>\n",
       "      <td>PC</td>\n",
       "      <td>14.86</td>\n",
       "      <td>D</td>\n",
       "      <td>C</td>\n",
       "    </tr>\n",
       "    <tr>\n",
       "      <th>99996</th>\n",
       "      <td>0.0</td>\n",
       "      <td>2</td>\n",
       "      <td>male</td>\n",
       "      <td>66.000000</td>\n",
       "      <td>0</td>\n",
       "      <td>0</td>\n",
       "      <td>X</td>\n",
       "      <td>11.15</td>\n",
       "      <td>n</td>\n",
       "      <td>S</td>\n",
       "    </tr>\n",
       "    <tr>\n",
       "      <th>99997</th>\n",
       "      <td>0.0</td>\n",
       "      <td>3</td>\n",
       "      <td>male</td>\n",
       "      <td>37.000000</td>\n",
       "      <td>0</td>\n",
       "      <td>0</td>\n",
       "      <td>X</td>\n",
       "      <td>9.95</td>\n",
       "      <td>n</td>\n",
       "      <td>S</td>\n",
       "    </tr>\n",
       "    <tr>\n",
       "      <th>99998</th>\n",
       "      <td>0.0</td>\n",
       "      <td>3</td>\n",
       "      <td>male</td>\n",
       "      <td>51.000000</td>\n",
       "      <td>0</td>\n",
       "      <td>1</td>\n",
       "      <td>X</td>\n",
       "      <td>30.92</td>\n",
       "      <td>n</td>\n",
       "      <td>S</td>\n",
       "    </tr>\n",
       "    <tr>\n",
       "      <th>99999</th>\n",
       "      <td>0.0</td>\n",
       "      <td>3</td>\n",
       "      <td>male</td>\n",
       "      <td>55.000000</td>\n",
       "      <td>0</td>\n",
       "      <td>0</td>\n",
       "      <td>X</td>\n",
       "      <td>13.96</td>\n",
       "      <td>n</td>\n",
       "      <td>S</td>\n",
       "    </tr>\n",
       "  </tbody>\n",
       "</table>\n",
       "<p>100000 rows × 10 columns</p>\n",
       "</div>"
      ],
      "text/plain": [
       "       Survived  Pclass     Sex        Age  SibSp  Parch Ticket   Fare Cabin  \\\n",
       "0           1.0       1    male  40.672757      2      0      X  27.14     C   \n",
       "1           0.0       3    male  30.205570      0      0      X  13.35     n   \n",
       "2           0.0       3    male   0.330000      1      2     CA  71.29     n   \n",
       "3           0.0       3    male  19.000000      0      0     A.  13.04     n   \n",
       "4           1.0       3    male  25.000000      0      0      X   7.76     n   \n",
       "...         ...     ...     ...        ...    ...    ...    ...    ...   ...   \n",
       "99995       1.0       2  female  62.000000      0      0     PC  14.86     D   \n",
       "99996       0.0       2    male  66.000000      0      0      X  11.15     n   \n",
       "99997       0.0       3    male  37.000000      0      0      X   9.95     n   \n",
       "99998       0.0       3    male  51.000000      0      1      X  30.92     n   \n",
       "99999       0.0       3    male  55.000000      0      0      X  13.96     n   \n",
       "\n",
       "      Embarked  \n",
       "0            S  \n",
       "1            S  \n",
       "2            S  \n",
       "3            S  \n",
       "4            S  \n",
       "...        ...  \n",
       "99995        C  \n",
       "99996        S  \n",
       "99997        S  \n",
       "99998        S  \n",
       "99999        S  \n",
       "\n",
       "[100000 rows x 10 columns]"
      ]
     },
     "execution_count": 22,
     "metadata": {},
     "output_type": "execute_result"
    }
   ],
   "source": [
    "data"
   ]
  },
  {
   "cell_type": "code",
   "execution_count": 23,
   "id": "worse-regard",
   "metadata": {
    "execution": {
     "iopub.execute_input": "2021-04-22T11:14:35.346353Z",
     "iopub.status.busy": "2021-04-22T11:14:35.345646Z",
     "iopub.status.idle": "2021-04-22T11:14:35.353741Z",
     "shell.execute_reply": "2021-04-22T11:14:35.353074Z"
    },
    "papermill": {
     "duration": 0.074756,
     "end_time": "2021-04-22T11:14:35.353894",
     "exception": false,
     "start_time": "2021-04-22T11:14:35.279138",
     "status": "completed"
    },
    "tags": []
   },
   "outputs": [],
   "source": [
    "# selection of predictors\n",
    "if SELECT_PRED:\n",
    "    # Separately, we selected the significant priediktors\n",
    "    # https://www.kaggle.com/c/tabular-playground-series-mar-2021/discussion/224530\n",
    "    # Variant 1:\n",
    "    SELECTED_FEATURES = [ # Noisy Cat Variables - 'cat5', 'cat7', 'cat8', 'cat10'\n",
    "                        'cat0', 'cat1', 'cat2', 'cat3', 'cat4', \n",
    "                        #'cat5', \n",
    "                        'cat6', \n",
    "                        #'cat7', 'cat8', \n",
    "                        'cat9', \n",
    "                        #'cat10', \n",
    "                        'cat11','cat12','cat13','cat14','cat15','cat16','cat17','cat18','cont0','cont1','cont2','cont3', \n",
    "                        'cont5', 'cont6', 'cont7', 'cont8', 'cont9', 'cont10']\n",
    "\n",
    "# selection of predictors\n",
    "if SELECT_PRED2:\n",
    "    # Separately, we selected the significant priediktors by the BoostARoota method\n",
    "    # Here they are, Variant 2 :\n",
    "    SELECTED_FEATURES = ['cat0', 'cat1', 'cat2', 'cat3', 'cat4', 'cat5', 'cat6', 'cat7', 'cat8', 'cat9', 'cat10', 'cat11', 'cat12', 'cat13', 'cat14', 'cat15', \n",
    "                         'cat16', 'cat17', 'cat18', 'cont0', 'cont1', 'cont2', 'cont3', \n",
    "                        #'cont4',\n",
    "                         'cont5', 'cont6', 'cont7', 'cont8', 'cont9', 'cont10']\n",
    "    \n",
    "if SELECT_PRED or SELECT_PRED2:\n",
    "    selfeat = SELECTED_FEATURES.copy()\n",
    "    selfeat.append(TARGET)\n",
    "    data = data[selfeat]\n",
    "    print(data.shape)"
   ]
  },
  {
   "cell_type": "code",
   "execution_count": 24,
   "id": "adaptive-practice",
   "metadata": {
    "execution": {
     "iopub.execute_input": "2021-04-22T11:14:35.487146Z",
     "iopub.status.busy": "2021-04-22T11:14:35.486459Z",
     "iopub.status.idle": "2021-04-22T11:14:35.581631Z",
     "shell.execute_reply": "2021-04-22T11:14:35.582126Z"
    },
    "id": "NUTcvj39j56f",
    "papermill": {
     "duration": 0.163822,
     "end_time": "2021-04-22T11:14:35.582353",
     "exception": false,
     "start_time": "2021-04-22T11:14:35.418531",
     "status": "completed"
    },
    "tags": []
   },
   "outputs": [],
   "source": [
    "# создаем обучающий массив признаков, обучающий массив меток,\n",
    "# тестовый массив признаков, тестовый массив меток\n",
    "train, test, y_train, y_test = train_test_split(data.drop(TARGET, axis=1), \n",
    "                                                data[TARGET], \n",
    "                                                test_size=TEST_SIZE, \n",
    "                                                stratify=data[TARGET], \n",
    "                                                random_state=SEED)"
   ]
  },
  {
   "cell_type": "code",
   "execution_count": 25,
   "id": "serial-alfred",
   "metadata": {
    "execution": {
     "iopub.execute_input": "2021-04-22T11:14:35.715054Z",
     "iopub.status.busy": "2021-04-22T11:14:35.714382Z",
     "iopub.status.idle": "2021-04-22T11:14:35.729478Z",
     "shell.execute_reply": "2021-04-22T11:14:35.728855Z"
    },
    "id": "5yQ9Qp9Vj56f",
    "outputId": "1488f05d-b4f5-404c-8e95-8056ed6d6c2e",
    "papermill": {
     "duration": 0.082843,
     "end_time": "2021-04-22T11:14:35.729623",
     "exception": false,
     "start_time": "2021-04-22T11:14:35.646780",
     "status": "completed"
    },
    "tags": []
   },
   "outputs": [
    {
     "data": {
      "text/plain": [
       "[2, 6, 8, 9]"
      ]
     },
     "execution_count": 25,
     "metadata": {},
     "output_type": "execute_result"
    }
   ],
   "source": [
    "# создаем список количественных признаков\n",
    "num_columns = train.select_dtypes(exclude='object').columns.tolist()\n",
    "# создаем списки категориальных признаков\n",
    "cat_columns = data.select_dtypes(include='object').columns\n",
    "\n",
    "# записываем список индексов категориальных предикторов\n",
    "cat_features_idx = np.where(data.dtypes == 'object')[0].tolist()\n",
    "# выводим этот список\n",
    "cat_features_idx"
   ]
  },
  {
   "cell_type": "markdown",
   "id": "extended-karma",
   "metadata": {
    "id": "ydsW51MDj56g",
    "papermill": {
     "duration": 0.064523,
     "end_time": "2021-04-22T11:14:35.859623",
     "exception": false,
     "start_time": "2021-04-22T11:14:35.795100",
     "status": "completed"
    },
    "tags": []
   },
   "source": [
    "> # ********  Phase 1 *************"
   ]
  },
  {
   "cell_type": "code",
   "execution_count": 26,
   "id": "diagnostic-scotland",
   "metadata": {
    "execution": {
     "iopub.execute_input": "2021-04-22T11:14:35.993640Z",
     "iopub.status.busy": "2021-04-22T11:14:35.993015Z",
     "iopub.status.idle": "2021-04-22T11:14:35.997628Z",
     "shell.execute_reply": "2021-04-22T11:14:35.998319Z"
    },
    "id": "ZWqH1pSAj56g",
    "papermill": {
     "duration": 0.073318,
     "end_time": "2021-04-22T11:14:35.998486",
     "exception": false,
     "start_time": "2021-04-22T11:14:35.925168",
     "status": "completed"
    },
    "tags": []
   },
   "outputs": [],
   "source": [
    "# создаем конвейеры\n",
    "cat_pipe = Pipeline([\n",
    "    ('imputer', SimpleImputer(strategy='most_frequent')), \n",
    "    ('enc', TargetEncoder() ) ])\n",
    "num_pipe = Pipeline([\n",
    "    ('imputer', SimpleImputer(strategy='median')),\n",
    "    ('scal', None)]\n",
    ") # "
   ]
  },
  {
   "cell_type": "code",
   "execution_count": 27,
   "id": "finite-senegal",
   "metadata": {
    "execution": {
     "iopub.execute_input": "2021-04-22T11:14:36.142979Z",
     "iopub.status.busy": "2021-04-22T11:14:36.142087Z",
     "iopub.status.idle": "2021-04-22T11:14:36.152150Z",
     "shell.execute_reply": "2021-04-22T11:14:36.151183Z"
    },
    "id": "-MiFAGrdj56g",
    "papermill": {
     "duration": 0.08833,
     "end_time": "2021-04-22T11:14:36.152343",
     "exception": false,
     "start_time": "2021-04-22T11:14:36.064013",
     "status": "completed"
    },
    "tags": []
   },
   "outputs": [],
   "source": [
    "# создаем список трехэлементных кортежей, в котором\n",
    "# первый элемент кортежа - название конвейера с\n",
    "# преобразованиями для определенного типа признаков\n",
    "transformers = [('num', num_pipe, num_columns),\n",
    "                ('cat', cat_pipe, cat_columns)]\n",
    "\n",
    "# передаем список трансформеров в ColumnTransformer\n",
    "transformer = ColumnTransformer(transformers=transformers)"
   ]
  },
  {
   "cell_type": "code",
   "execution_count": 28,
   "id": "southern-spoke",
   "metadata": {
    "execution": {
     "iopub.execute_input": "2021-04-22T11:14:36.304289Z",
     "iopub.status.busy": "2021-04-22T11:14:36.303422Z",
     "iopub.status.idle": "2021-04-22T11:14:36.307234Z",
     "shell.execute_reply": "2021-04-22T11:14:36.306679Z"
    },
    "id": "Z1V4HwqWj56h",
    "papermill": {
     "duration": 0.076732,
     "end_time": "2021-04-22T11:14:36.307373",
     "exception": false,
     "start_time": "2021-04-22T11:14:36.230641",
     "status": "completed"
    },
    "tags": []
   },
   "outputs": [],
   "source": [
    "if Phase_1:\n",
    "    params2 = params   \n",
    "    # задаем итоговый конвейер\n",
    "    ml_pipe = Pipeline([('tr', transformer), \n",
    "                        ('lgboost', LGBMClassifier(**params))])"
   ]
  },
  {
   "cell_type": "code",
   "execution_count": 29,
   "id": "pursuant-solomon",
   "metadata": {
    "execution": {
     "iopub.execute_input": "2021-04-22T11:14:36.446450Z",
     "iopub.status.busy": "2021-04-22T11:14:36.445580Z",
     "iopub.status.idle": "2021-04-22T11:14:36.449202Z",
     "shell.execute_reply": "2021-04-22T11:14:36.448572Z"
    },
    "id": "BNzybeXGj56h",
    "papermill": {
     "duration": 0.076533,
     "end_time": "2021-04-22T11:14:36.449339",
     "exception": false,
     "start_time": "2021-04-22T11:14:36.372806",
     "status": "completed"
    },
    "tags": []
   },
   "outputs": [],
   "source": [
    "if Phase_1:\n",
    "    # задаем сетку гиперпараметров\n",
    "    param_grid = [{\n",
    "        'tr__cat__imputer__strategy': ['most_frequent',  'constant'],\n",
    "        'tr__cat__enc': [TargetEncoder(),\n",
    "                         #LabelEncoder(), \n",
    "                         OrdinalEncoder(),\n",
    "                         #OneHotEncoder(sparse=False, handle_unknown='ignore'),\n",
    "                         LeaveOneOutEncoder()\n",
    "                        ],\n",
    "        'tr__num__imputer__strategy': ['mean', 'median', 'constant'],\n",
    "        'tr__num__scal': [None], # StandardScaler()],\n",
    "        'lgboost__learning_rate': RANG_LEARNING_RATE,\n",
    "        'lgboost__n_estimators' : N_ESTIMATORS_RANG\n",
    "    }]\n",
    "    if TEST:\n",
    "        param_grid = [{\n",
    "            'lgboost__learning_rate': [0.03,0.02],\n",
    "            'lgboost__n_estimators' : [5],\n",
    "                'tr__cat__enc': [OrdinalEncoder()],\n",
    "        'tr__num__scal': [None], \n",
    "        'tr__cat__imputer__strategy': ['most_frequent',  'constant'],\n",
    "        'tr__num__imputer__strategy': ['mean', 'constant'],\n",
    "        }]"
   ]
  },
  {
   "cell_type": "code",
   "execution_count": 30,
   "id": "identified-chinese",
   "metadata": {
    "execution": {
     "iopub.execute_input": "2021-04-22T11:14:36.586296Z",
     "iopub.status.busy": "2021-04-22T11:14:36.585560Z",
     "iopub.status.idle": "2021-04-22T11:14:36.590334Z",
     "shell.execute_reply": "2021-04-22T11:14:36.589836Z"
    },
    "id": "toiOlZODj56h",
    "outputId": "4b8b1cc2-3607-4a94-aa12-a9f1b228a10d",
    "papermill": {
     "duration": 0.076165,
     "end_time": "2021-04-22T11:14:36.590463",
     "exception": false,
     "start_time": "2021-04-22T11:14:36.514298",
     "status": "completed"
    },
    "tags": []
   },
   "outputs": [
    {
     "name": "stdout",
     "output_type": "stream",
     "text": [
      "CPU times: user 4 µs, sys: 0 ns, total: 4 µs\n",
      "Wall time: 7.63 µs\n"
     ]
    }
   ],
   "source": [
    "%%time\n",
    "\n",
    "if Phase_1:\n",
    "    # создаем экземпляр класса RandomizedSearchCV или GridSearchCV, передав конвейер,\n",
    "    # сетку гиперпараметров и указав количество\n",
    "    # блоков перекрестной проверки, отключив запись метрик \n",
    "    # для обучающих блоков перекрестной проверки в атрибут cv_results_\n",
    "    #gs = GridSearchCV(\n",
    "    gs = RandomizedSearchCV( \n",
    "                      ml_pipe, \n",
    "                      param_grid, \n",
    "                      cv=CV, \n",
    "                      scoring='roc_auc', \n",
    "                      n_jobs=-1, \n",
    "                      return_train_score=False,\n",
    "                      verbose=3,\n",
    "                      random_state=SEED,\n",
    "                    n_iter = N_TRIALS\n",
    "                     )\n",
    "    # выполняем решетчатый поиск\n",
    "    gs.fit(train, y_train)\n",
    "    # записываем оптимальные значения гиперпараметров\n",
    "    OPT_PARAMS_PIPE = gs.best_params_ "
   ]
  },
  {
   "cell_type": "code",
   "execution_count": 31,
   "id": "central-rates",
   "metadata": {
    "execution": {
     "iopub.execute_input": "2021-04-22T11:14:36.728950Z",
     "iopub.status.busy": "2021-04-22T11:14:36.728256Z",
     "iopub.status.idle": "2021-04-22T11:14:36.730607Z",
     "shell.execute_reply": "2021-04-22T11:14:36.731224Z"
    },
    "id": "wPDat-nmj56i",
    "papermill": {
     "duration": 0.074865,
     "end_time": "2021-04-22T11:14:36.731390",
     "exception": false,
     "start_time": "2021-04-22T11:14:36.656525",
     "status": "completed"
    },
    "tags": []
   },
   "outputs": [],
   "source": [
    "if Phase_1:\n",
    "    y_probas = gs.predict_proba(test)\n",
    "    # смотрим наилучшие значения гиперпараметров\n",
    "    print('Наилучшие значения гиперпараметров: {}'.format(OPT_PARAMS_PIPE))\n",
    "    # смотрим наилучшее значение AUC\n",
    "    print('Наилучшее значение AUC: {:.3f}'.format(gs.best_score_))\n",
    "    # смотрим значение AUC на тестовой выборке\n",
    "    print('Значение AUC на тестовой выборке: {:.3f}'.format(\n",
    "        roc_auc_score(y_test, y_probas[:, 1])))"
   ]
  },
  {
   "cell_type": "code",
   "execution_count": 32,
   "id": "rotary-milwaukee",
   "metadata": {
    "execution": {
     "iopub.execute_input": "2021-04-22T11:14:36.866469Z",
     "iopub.status.busy": "2021-04-22T11:14:36.865792Z",
     "iopub.status.idle": "2021-04-22T11:14:36.875963Z",
     "shell.execute_reply": "2021-04-22T11:14:36.876492Z"
    },
    "id": "zCumPqG-j56i",
    "papermill": {
     "duration": 0.079223,
     "end_time": "2021-04-22T11:14:36.876662",
     "exception": false,
     "start_time": "2021-04-22T11:14:36.797439",
     "status": "completed"
    },
    "tags": []
   },
   "outputs": [],
   "source": [
    "if Phase_1:\n",
    "    # увеличиваем количество выводимых строк\n",
    "    pd.set_option('display.max_rows', 300)\n",
    "\n",
    "    # выводим результаты\n",
    "    cv_results = pd.DataFrame(gs.cv_results_)[['mean_test_score',\n",
    "                                               'param_lgboost__learning_rate',\n",
    "                                               'param_tr__cat__enc',\n",
    "                                               'param_tr__cat__imputer__strategy',\n",
    "                                               'param_tr__num__imputer__strategy'\n",
    "                                               #'param_tr__num__scal'\n",
    "                                               ]]\n",
    "    cv_results = cv_results.sort_values(by='mean_test_score', ascending=False).reset_index(drop=True)\n",
    "\n",
    "    for col in cv_results.columns[cv_results.columns.str.contains('enc')]:\n",
    "        if col in 'mean_test_score':\n",
    "            continue\n",
    "\n",
    "        cv_results[col] = cv_results[col].apply(lambda x: type(x).__name__)\n",
    "\n",
    "    display(cv_results)\n",
    "    \n",
    "    with open(NAME_RUN_LOG, 'at', encoding='utf-8') as logfile:\n",
    "        print('Временная метка окончания ФАЗЫ 1 : {}'.format(datetime.datetime.now().strftime(\"%d-%m-%Y %H:%M\")), \n",
    "          file=logfile)\n",
    "        print('Наилучшие значения гиперпараметров: {}'.format(gs.best_params_), file=logfile)\n",
    "        print('Наилучшее значение AUC: {:.3f}'.format(gs.best_score_), file=logfile)\n",
    "        print('Значение AUC на тестовой выборке: {:.3f}'.format(\n",
    "            roc_auc_score(y_test, gs.predict_proba(test)[:, 1])), file=logfile)\n",
    "        print('Таблица значений: ', file=logfile)\n",
    "        #print(display(cv_results), file=logfile)\n",
    "    with open(NAME_RUN_LOG, 'at', encoding='utf-8') as logfile:\n",
    "        cv_results.to_csv(NAME_RUN_LOG, index=False, mode='at')"
   ]
  },
  {
   "cell_type": "code",
   "execution_count": 33,
   "id": "rental-ethnic",
   "metadata": {
    "execution": {
     "iopub.execute_input": "2021-04-22T11:14:37.013617Z",
     "iopub.status.busy": "2021-04-22T11:14:37.012986Z",
     "iopub.status.idle": "2021-04-22T11:14:37.016799Z",
     "shell.execute_reply": "2021-04-22T11:14:37.017367Z"
    },
    "papermill": {
     "duration": 0.073616,
     "end_time": "2021-04-22T11:14:37.017528",
     "exception": false,
     "start_time": "2021-04-22T11:14:36.943912",
     "status": "completed"
    },
    "tags": []
   },
   "outputs": [],
   "source": [
    "if Phase_1:\n",
    "    # рисуем ROC кривую \n",
    "    skplt.metrics.plot_roc(y_test, y_probas)\n",
    "    plt.show()"
   ]
  },
  {
   "cell_type": "code",
   "execution_count": 34,
   "id": "speaking-adjustment",
   "metadata": {
    "execution": {
     "iopub.execute_input": "2021-04-22T11:14:37.155496Z",
     "iopub.status.busy": "2021-04-22T11:14:37.154841Z",
     "iopub.status.idle": "2021-04-22T11:14:37.163209Z",
     "shell.execute_reply": "2021-04-22T11:14:37.163744Z"
    },
    "papermill": {
     "duration": 0.07926,
     "end_time": "2021-04-22T11:14:37.163914",
     "exception": false,
     "start_time": "2021-04-22T11:14:37.084654",
     "status": "completed"
    },
    "tags": []
   },
   "outputs": [
    {
     "data": {
      "text/plain": [
       "0.47231523177731743"
      ]
     },
     "execution_count": 34,
     "metadata": {},
     "output_type": "execute_result"
    }
   ],
   "source": [
    "if Phase_1:\n",
    "    # и выбираем лучшую точку порога\n",
    "    def Find_Optimal_Cutoff(target, predicted):\n",
    "        fpr, tpr, threshold = roc_curve(target, predicted)\n",
    "        i = np.arange(len(tpr)) \n",
    "        roc = pd.DataFrame({'tf' : pd.Series(tpr-(1-fpr), index=i), 'threshold' : pd.Series(threshold, index=i)})\n",
    "        roc_t = roc.loc[(roc.tf-0).abs().argsort()[:1]]\n",
    "\n",
    "        return list(roc_t['threshold']) \n",
    "\n",
    "    threshold = Find_Optimal_Cutoff(y_test, y_probas[:, 1])\n",
    "\n",
    "threshold"
   ]
  },
  {
   "cell_type": "markdown",
   "id": "backed-productivity",
   "metadata": {
    "id": "1CNKuN-jj56i",
    "papermill": {
     "duration": 0.066434,
     "end_time": "2021-04-22T11:14:37.298223",
     "exception": false,
     "start_time": "2021-04-22T11:14:37.231789",
     "status": "completed"
    },
    "tags": []
   },
   "source": [
    "> # ********  Phase 2 *************"
   ]
  },
  {
   "cell_type": "code",
   "execution_count": 35,
   "id": "separate-column",
   "metadata": {
    "execution": {
     "iopub.execute_input": "2021-04-22T11:14:37.434316Z",
     "iopub.status.busy": "2021-04-22T11:14:37.433643Z",
     "iopub.status.idle": "2021-04-22T11:14:37.438955Z",
     "shell.execute_reply": "2021-04-22T11:14:37.439507Z"
    },
    "papermill": {
     "duration": 0.075068,
     "end_time": "2021-04-22T11:14:37.439679",
     "exception": false,
     "start_time": "2021-04-22T11:14:37.364611",
     "status": "completed"
    },
    "tags": []
   },
   "outputs": [],
   "source": [
    "# трансформеры\n",
    "upd_cat_pipe = Pipeline([\n",
    "        ('imputer', SimpleImputer(strategy='most_frequent')), \n",
    "        ('enc', TargetEncoder())])\n",
    "upd_num_pipe = Pipeline([\n",
    "        ('imputer', SimpleImputer(strategy='median')), \n",
    "        ('scal', None)]) # \n",
    "\n",
    "upd_transformers = [('num', upd_num_pipe, num_columns),\n",
    "                    ('cat', upd_cat_pipe, cat_columns),]\n",
    "\n",
    "# передаем список трансформеров в ColumnTransformer\n",
    "upd_transformer = ColumnTransformer(transformers=upd_transformers)"
   ]
  },
  {
   "cell_type": "code",
   "execution_count": 36,
   "id": "annual-father",
   "metadata": {
    "execution": {
     "iopub.execute_input": "2021-04-22T11:14:37.578098Z",
     "iopub.status.busy": "2021-04-22T11:14:37.577364Z",
     "iopub.status.idle": "2021-04-22T11:14:37.581925Z",
     "shell.execute_reply": "2021-04-22T11:14:37.582556Z"
    },
    "id": "itTSx5MTj56j",
    "papermill": {
     "duration": 0.075706,
     "end_time": "2021-04-22T11:14:37.582759",
     "exception": false,
     "start_time": "2021-04-22T11:14:37.507053",
     "status": "completed"
    },
    "tags": []
   },
   "outputs": [],
   "source": [
    "if Phase_2:  \n",
    "    # задаем итоговый конвейер ПОКА ЧТО С НАЧАЛЬНЫМИ НАСТРОЙКАМИ\n",
    "    ml_pipe2 = Pipeline([('tr', upd_transformer), \n",
    "                         ('lgboost', LGBMClassifier(**params))])"
   ]
  },
  {
   "cell_type": "code",
   "execution_count": 37,
   "id": "registered-decision",
   "metadata": {
    "execution": {
     "iopub.execute_input": "2021-04-22T11:14:37.722566Z",
     "iopub.status.busy": "2021-04-22T11:14:37.721914Z",
     "iopub.status.idle": "2021-04-22T11:14:37.726543Z",
     "shell.execute_reply": "2021-04-22T11:14:37.726035Z"
    },
    "papermill": {
     "duration": 0.076674,
     "end_time": "2021-04-22T11:14:37.726687",
     "exception": false,
     "start_time": "2021-04-22T11:14:37.650013",
     "status": "completed"
    },
    "tags": []
   },
   "outputs": [],
   "source": [
    "# ml_pipe2.get_params().keys()"
   ]
  },
  {
   "cell_type": "code",
   "execution_count": 38,
   "id": "spare-conflict",
   "metadata": {
    "execution": {
     "iopub.execute_input": "2021-04-22T11:14:37.864857Z",
     "iopub.status.busy": "2021-04-22T11:14:37.864187Z",
     "iopub.status.idle": "2021-04-22T11:14:37.869271Z",
     "shell.execute_reply": "2021-04-22T11:14:37.869808Z"
    },
    "papermill": {
     "duration": 0.075709,
     "end_time": "2021-04-22T11:14:37.869984",
     "exception": false,
     "start_time": "2021-04-22T11:14:37.794275",
     "status": "completed"
    },
    "tags": []
   },
   "outputs": [],
   "source": [
    "if Phase_2:  \n",
    "    # УСТАНОВКА В НОВЫЙ PIPE НАИЛУЧШИХ ЗНАЧЕНИЙ НАЙДЕННЫХ В ПРЕДЫДУЩЕЙ ФАЗЕ:  \n",
    "    if Phase_1:  \n",
    "        # присваиваем итоговому конвейеру оптимальные значения гиперпараметров\n",
    "        print('Before modification lgboost__learning_rate ml_pipe2: ', ml_pipe2.get_params()['lgboost__learning_rate'])\n",
    "        ml_pipe2.set_params(**OPT_PARAMS_PIPE)\n",
    "        print('After modification lgboost__learning_rate ml_pipe2: ', ml_pipe2.get_params()['lgboost__learning_rate'])"
   ]
  },
  {
   "cell_type": "code",
   "execution_count": 39,
   "id": "stylish-province",
   "metadata": {
    "execution": {
     "iopub.execute_input": "2021-04-22T11:14:38.009843Z",
     "iopub.status.busy": "2021-04-22T11:14:38.009062Z",
     "iopub.status.idle": "2021-04-22T11:14:38.017779Z",
     "shell.execute_reply": "2021-04-22T11:14:38.018346Z"
    },
    "papermill": {
     "duration": 0.080769,
     "end_time": "2021-04-22T11:14:38.018527",
     "exception": false,
     "start_time": "2021-04-22T11:14:37.937758",
     "status": "completed"
    },
    "tags": []
   },
   "outputs": [],
   "source": [
    "if Phase_2:\n",
    "    # задаем новое пространство поиска\n",
    "    param_distributions = { # (1) гиперпараметры, задающие структуру дерева:\n",
    "                       'lgboost__num_leaves': IntUniformDistribution(2, 1024),#  4095),# 131070), #4095),#  (10, 200)\n",
    "                        #########'lgboost__max_depth': IntUniformDistribution(1, 32) #2, 63 и бесконечное #6, 127),\n",
    "                       'lgboost__max_bin': IntUniformDistribution(1, 1024),  \n",
    "                       'lgboost__min_child_samples': IntUniformDistribution(1, 300),\n",
    "                       'lgboost__min_sum_hessian_in_leaf': UniformDistribution(0.01, 300),#(синонимы:min_child_weight,...)\n",
    "                        # (2) гиперпараметры, привносящие случайность в ходе построения дерева:\n",
    "                       'lgboost__bagging_fraction': UniformDistribution(0.0, 1.0),# синонимы:subsample,...\n",
    "                       'lgboost__feature_fraction': UniformDistribution(0.0, 1.0), # (0.3, 0.9), #синонимы:colsample_bytree,...\n",
    "                       'lgboost__bagging_freq': IntUniformDistribution(1, 81, 5), # 'синонимы:subsample',...\n",
    "                        # (3) гиперпараметры, задающие регуляризацию функции потерь:\n",
    "                        'lgboost__reg_alpha': UniformDistribution(1e-3, 25.0), #0,01 или 0,1\n",
    "                        'lgboost__reg_lambda': UniformDistribution(1e-3, 25.0), #0,01 или 0,1\n",
    "\n",
    "                        # ЭТО ТОЛЬКО ДЛЯ БИНАРНОЙ КЛАССИФИКАЦИИ, ДЛЯ НЕСБАЛАНСИРОВАННЫХ КЛАСОВ\n",
    "                        # sample_pos_weight ~ number of negative samples / number of positive samples\n",
    "                        # т.е. в данном случае ~ \n",
    "                        #'lgboost__scale_pos_weight': UniformDistribution(0.1, 10) #[1, 10000] \n",
    "\n",
    "\n",
    "                        # Еще важные гиперпараметры (AG):\n",
    "                        # min_data_in_leaf\n",
    "                        # feature_fraction_bynode (синонимы:sub_feature_bynode,colsample_bynode)\n",
    "                        # min_sum_hessian_in_leaf[0,01,(размер выборки / 1000)](синонимы:min_sum_hessian_per_leaf,min_sum_hessian,min_hessian,min_child_weight)\n",
    "                        # max_bin_by_feature\n",
    "                        # min_data_in_bin\n",
    "\n",
    "    # для категориальных признаков\n",
    "    #'lgboost__min_data_per_group': IntUniformDistribution(50, 200),\n",
    "    #'lgboost__cat_smooth': IntUniformDistribution(10, 100) (1.0, 50.0),\n",
    "    #'lgboost__cat_l2': IntUniformDistribution(1, 20)\n",
    "\n",
    "    # Рекомендации с https://github.com/Microsoft/LightGBM/issues/695 (от Laurae2 commented on 16 Jul 2017)                   \n",
    "    # scale_pos_weight: [1, 10000]\n",
    "    # is_unbalance: false (сделайте свой собственный вес с помощью scale_pos_weight)              \n",
    "    # subsample: [0.4, 1]\n",
    "    # bagging_freq: только 1, оставить как есть (в противном случае переоборудование)\n",
    "    # colsample_bytree: [0,4, 1]\n",
    "    # вы можете использовать 5, 10, 20, 50, 100 для Early_stopping_rounds.\n",
    "    # ALL IFO: https://sites.google.com/view/lauraepp/parameters\n",
    "                      }\n",
    "\n",
    "\n",
    "    if TEST:\n",
    "        param_distributions = { # (1) гиперпараметры, задающие структуру дерева: \n",
    "                           'lgboost__min_child_samples': IntUniformDistribution(1, 300),\n",
    "                            # (2) гиперпараметры, привносящие случайность в ходе построения дерева:\n",
    "                           'lgboost__bagging_fraction': UniformDistribution(0.0, 1.0),# синонимы:subsample,...\n",
    "                           'lgboost__feature_fraction': UniformDistribution(0.0, 1.0), # (0.3, 0.9), #синонимы:colsample_bytree,...\n",
    "                           'lgboost__bagging_freq': IntUniformDistribution(1, 81, 5), # 'синонимы:subsample',...\n",
    "                            # (3) гиперпараметры, задающие регуляризацию функции потерь:\n",
    "                            'lgboost__reg_alpha': UniformDistribution(1e-3, 25.0), }  "
   ]
  },
  {
   "cell_type": "markdown",
   "id": "wrapped-stereo",
   "metadata": {
    "papermill": {
     "duration": 0.067942,
     "end_time": "2021-04-22T11:14:38.154120",
     "exception": false,
     "start_time": "2021-04-22T11:14:38.086178",
     "status": "completed"
    },
    "tags": []
   },
   "source": [
    "if Phase_2:  \n",
    "        # задаем новое пространство поиска\n",
    "    param_distributions = { # (1) гиперпараметры, задающие структуру дерева: \n",
    "                           'lgboost__min_child_samples': IntUniformDistribution(1, 300),\n",
    "        #'lgboost__max_bin',\n",
    "        \n",
    "                            # (2) гиперпараметры, привносящие случайность в ходе построения дерева:\n",
    "                           'lgboost__bagging_fraction': UniformDistribution(0.0, 1.0),# синонимы:subsample,...\n",
    "                           'lgboost__feature_fraction': UniformDistribution(0.0, 1.0), # (0.3, 0.9), #синонимы:colsample_bytree,...\n",
    "                           'lgboost__bagging_freq': IntUniformDistribution(1, 81, 5), # 'синонимы:subsample',...\n",
    "                            # (3) гиперпараметры, задающие регуляризацию функции потерь:\n",
    "                            'lgboost__reg_alpha': UniformDistribution(1e-3, 25.0), #0,01 или 0,1\n",
    "                            # ЭТО ТОЛЬКО ДЛЯ БИНАРНОЙ КЛАССИФИКАЦИИ, ДЛЯ НЕСБАЛАНСИРОВАННЫХ КЛАСОВ\n",
    "                            # sample_pos_weight ~ number of negative samples / number of positive samples\n",
    "                            # т.е. в данном случае ~ \n",
    "                            #'lgboost__scale_pos_weight': UniformDistribution(0.1, 10) #[1, 10000] \n",
    "                          }\n",
    " \n",
    "    \n",
    "    if TEST:\n",
    "        param_distributions = { # (1) гиперпараметры, задающие структуру дерева: \n",
    "                           'lgboost__min_child_samples': IntUniformDistribution(1, 300),\n",
    "                            # (2) гиперпараметры, привносящие случайность в ходе построения дерева:\n",
    "                           'lgboost__bagging_fraction': UniformDistribution(0.0, 1.0),# синонимы:subsample,...\n",
    "                           'lgboost__feature_fraction': UniformDistribution(0.0, 1.0), # (0.3, 0.9), #синонимы:colsample_bytree,...\n",
    "                           'lgboost__bagging_freq': IntUniformDistribution(1, 81, 5), # 'синонимы:subsample',...\n",
    "                            # (3) гиперпараметры, задающие регуляризацию функции потерь:\n",
    "                            'lgboost__reg_alpha': UniformDistribution(1e-3, 25.0), }          "
   ]
  },
  {
   "cell_type": "code",
   "execution_count": 40,
   "id": "electrical-passenger",
   "metadata": {
    "execution": {
     "iopub.execute_input": "2021-04-22T11:14:38.292307Z",
     "iopub.status.busy": "2021-04-22T11:14:38.291676Z",
     "iopub.status.idle": "2021-04-22T11:14:38.295806Z",
     "shell.execute_reply": "2021-04-22T11:14:38.296321Z"
    },
    "papermill": {
     "duration": 0.074607,
     "end_time": "2021-04-22T11:14:38.296484",
     "exception": false,
     "start_time": "2021-04-22T11:14:38.221877",
     "status": "completed"
    },
    "tags": []
   },
   "outputs": [],
   "source": [
    "if Phase_2:\n",
    "    # создаем экземпляр класса OptunaSearchCV\n",
    "    optuna_search = OptunaSearchCV(\n",
    "        ml_pipe2,\n",
    "        param_distributions,\n",
    "        scoring='roc_auc',\n",
    "        random_state=SEED,\n",
    "        n_trials=N_TRIALS,\n",
    "        #verbose=1,\n",
    "        cv=CV_O)"
   ]
  },
  {
   "cell_type": "code",
   "execution_count": 41,
   "id": "derived-conditioning",
   "metadata": {
    "execution": {
     "iopub.execute_input": "2021-04-22T11:14:38.434469Z",
     "iopub.status.busy": "2021-04-22T11:14:38.433861Z",
     "iopub.status.idle": "2021-04-22T11:14:38.440149Z",
     "shell.execute_reply": "2021-04-22T11:14:38.439625Z"
    },
    "id": "3Tbb9_ryj56k",
    "papermill": {
     "duration": 0.076229,
     "end_time": "2021-04-22T11:14:38.440303",
     "exception": false,
     "start_time": "2021-04-22T11:14:38.364074",
     "status": "completed"
    },
    "tags": []
   },
   "outputs": [
    {
     "name": "stdout",
     "output_type": "stream",
     "text": [
      "CPU times: user 3 µs, sys: 1 µs, total: 4 µs\n",
      "Wall time: 7.15 µs\n"
     ]
    }
   ],
   "source": [
    "%%time\n",
    "if Phase_2:\n",
    "    # выполняем оптимизацию\n",
    "    optuna_search.fit(train, y_train)"
   ]
  },
  {
   "cell_type": "code",
   "execution_count": 42,
   "id": "wooden-cotton",
   "metadata": {
    "execution": {
     "iopub.execute_input": "2021-04-22T11:14:38.585731Z",
     "iopub.status.busy": "2021-04-22T11:14:38.584986Z",
     "iopub.status.idle": "2021-04-22T11:14:38.588365Z",
     "shell.execute_reply": "2021-04-22T11:14:38.587808Z"
    },
    "id": "SyreK__Qj56l",
    "papermill": {
     "duration": 0.080196,
     "end_time": "2021-04-22T11:14:38.588510",
     "exception": false,
     "start_time": "2021-04-22T11:14:38.508314",
     "status": "completed"
    },
    "tags": []
   },
   "outputs": [],
   "source": [
    "if Phase_2:\n",
    "    # записываем оптимальные значения гиперпараметров optuna\n",
    "    opt_optuna_params_pipe = optuna_search.best_params_\n",
    "    if Phase_1:\n",
    "        opt_optuna_params_pipe['lgboost__learning_rate'] = OPT_PARAMS_PIPE['lgboost__learning_rate']\n",
    "        opt_optuna_params_pipe['lgboost__n_estimators']  = OPT_PARAMS_PIPE['lgboost__n_estimators']\n",
    "        \n",
    "####### !!!!!!!!!!!!!!!!!!!!!!!!!!        opt_optuna_params_pipe['lgboost__n_estimators'] = OPT_PARAMS_PIPE['lgboost__n_estimators'] \n",
    "\n",
    "    # печатаем наилучшие значения гиперпараметров\n",
    "    print('Наилучшие значения гиперпараметров: {}'.format(opt_optuna_params_pipe))\n",
    "    # печатаем наилучшее значение AUC\n",
    "    print('Наилучшее значение AUC: {:.3f}'.format(optuna_search.best_score_))\n",
    "    # смотрим значение AUC на тестовой выборке\n",
    "    print('AUC на тестовой выборке: {:.3f}'.format(\n",
    "        roc_auc_score(y_test, optuna_search.predict_proba(test)[:, 1])))\n",
    "    print('')\n",
    "    with open(NAME_RUN_LOG, 'at', encoding='utf-8') as logfile:\n",
    "        print('/nВременная метка окончания ФАЗЫ 2 : {}'.format(datetime.datetime.now().strftime(\"%d-%m-%Y %H:%M\")), \n",
    "          file=logfile)\n",
    "        print('Наилучшие значения гиперпараметров найденых optuna: \\n{}'.format(opt_optuna_params_pipe), file=logfile)\n",
    "        print('Наилучшее значение AUC: {:.3f}'.format(optuna_search.best_score_), file=logfile)\n",
    "        print('AUC на тестовой выборке: {:.3f}\\n'.format(\n",
    "            roc_auc_score(y_test, optuna_search.predict_proba(test)[:, 1])), file=logfile)"
   ]
  },
  {
   "cell_type": "code",
   "execution_count": 43,
   "id": "dedicated-eclipse",
   "metadata": {
    "execution": {
     "iopub.execute_input": "2021-04-22T11:14:38.730327Z",
     "iopub.status.busy": "2021-04-22T11:14:38.729629Z",
     "iopub.status.idle": "2021-04-22T11:14:38.732199Z",
     "shell.execute_reply": "2021-04-22T11:14:38.732836Z"
    },
    "papermill": {
     "duration": 0.075682,
     "end_time": "2021-04-22T11:14:38.733022",
     "exception": false,
     "start_time": "2021-04-22T11:14:38.657340",
     "status": "completed"
    },
    "tags": []
   },
   "outputs": [],
   "source": [
    "#opt_optuna_params_pipe"
   ]
  },
  {
   "cell_type": "markdown",
   "id": "hired-heater",
   "metadata": {
    "id": "XEUoguQDj56m",
    "papermill": {
     "duration": 0.072076,
     "end_time": "2021-04-22T11:14:38.875577",
     "exception": false,
     "start_time": "2021-04-22T11:14:38.803501",
     "status": "completed"
    },
    "tags": []
   },
   "source": [
    "> # ********  Phase 3 *************"
   ]
  },
  {
   "cell_type": "code",
   "execution_count": 44,
   "id": "radio-colors",
   "metadata": {
    "execution": {
     "iopub.execute_input": "2021-04-22T11:14:39.019891Z",
     "iopub.status.busy": "2021-04-22T11:14:39.018881Z",
     "iopub.status.idle": "2021-04-22T11:14:39.026829Z",
     "shell.execute_reply": "2021-04-22T11:14:39.026147Z"
    },
    "id": "iexbKXzIj56m",
    "papermill": {
     "duration": 0.08301,
     "end_time": "2021-04-22T11:14:39.026972",
     "exception": false,
     "start_time": "2021-04-22T11:14:38.943962",
     "status": "completed"
    },
    "tags": []
   },
   "outputs": [],
   "source": [
    "# формируем массив меток и массив признаков\n",
    "train = data.drop(TARGET, axis=1)              \n",
    "Y = data[TARGET] "
   ]
  },
  {
   "cell_type": "code",
   "execution_count": 45,
   "id": "detected-projection",
   "metadata": {
    "execution": {
     "iopub.execute_input": "2021-04-22T11:14:39.170253Z",
     "iopub.status.busy": "2021-04-22T11:14:39.169277Z",
     "iopub.status.idle": "2021-04-22T11:14:39.172765Z",
     "shell.execute_reply": "2021-04-22T11:14:39.172229Z"
    },
    "papermill": {
     "duration": 0.077046,
     "end_time": "2021-04-22T11:14:39.172908",
     "exception": false,
     "start_time": "2021-04-22T11:14:39.095862",
     "status": "completed"
    },
    "tags": []
   },
   "outputs": [],
   "source": [
    "#ml_pipe3.get_params()"
   ]
  },
  {
   "cell_type": "code",
   "execution_count": 46,
   "id": "documented-stanley",
   "metadata": {
    "execution": {
     "iopub.execute_input": "2021-04-22T11:14:39.317201Z",
     "iopub.status.busy": "2021-04-22T11:14:39.316535Z",
     "iopub.status.idle": "2021-04-22T11:14:39.319685Z",
     "shell.execute_reply": "2021-04-22T11:14:39.319169Z"
    },
    "id": "JEGiSIpDj56m",
    "papermill": {
     "duration": 0.078554,
     "end_time": "2021-04-22T11:14:39.319852",
     "exception": false,
     "start_time": "2021-04-22T11:14:39.241298",
     "status": "completed"
    },
    "tags": []
   },
   "outputs": [],
   "source": [
    "#  трансформеры - используем ТЕ ЖЕ что и для второй модели\n",
    "    \n",
    "# задаем итоговый конвейер ПОКА ЧТО С НАЧАЛЬНЫМИ НАСТРОЙКАМИ\n",
    "ml_pipe3 = Pipeline([('tr', upd_transformer), \n",
    "                     ('lgboost', LGBMClassifier(**params))])\n",
    "\n",
    "if Phase_2: \n",
    "    # Для контроля изменений смотрим выбранные параметры модели \n",
    "    opt_par = ['lgboost__n_estimators','lgboost__learning_rate','lgboost__num_leaves']\n",
    "    print(opt_par)\n",
    "    print( 'Before modification ml_pipe3: ' ,[ml_pipe3.get_params()[x] for x in opt_par])\n",
    "    \n",
    "    # УСТАНОВКА В НОВЫЙ PIPE НАИЛУЧШИХ ЗНАЧЕНИЙ НАЙДЕННЫХ В ПРЕДЫДУЩЕЙ ФАЗЕ:  \n",
    "    # присваиваем итоговому конвейеру оптимальные значения гиперпараметров найденные optuna\n",
    "    ml_pipe3.set_params(**opt_optuna_params_pipe)\n",
    "    \n",
    "    # Для контроля изменений\n",
    "    print( 'After modification ml_pipe3: ' ,[ml_pipe3.get_params()[x] for x in opt_par])"
   ]
  },
  {
   "cell_type": "code",
   "execution_count": 47,
   "id": "searching-grave",
   "metadata": {
    "execution": {
     "iopub.execute_input": "2021-04-22T11:14:39.462039Z",
     "iopub.status.busy": "2021-04-22T11:14:39.461083Z",
     "iopub.status.idle": "2021-04-22T11:14:39.495755Z",
     "shell.execute_reply": "2021-04-22T11:14:39.495084Z"
    },
    "papermill": {
     "duration": 0.107334,
     "end_time": "2021-04-22T11:14:39.495904",
     "exception": false,
     "start_time": "2021-04-22T11:14:39.388570",
     "status": "completed"
    },
    "tags": []
   },
   "outputs": [],
   "source": [
    "with open(NAME_RUN_LOG, 'at', encoding='utf-8') as logfile:\n",
    "        print('Параметры конечной модели, формирующей посылку(submission): \\n{}'.format(ml_pipe3.get_params()), file=logfile)"
   ]
  },
  {
   "cell_type": "code",
   "execution_count": 48,
   "id": "affecting-independence",
   "metadata": {
    "execution": {
     "iopub.execute_input": "2021-04-22T11:14:39.644926Z",
     "iopub.status.busy": "2021-04-22T11:14:39.644216Z",
     "iopub.status.idle": "2021-04-22T11:19:19.933523Z",
     "shell.execute_reply": "2021-04-22T11:19:19.932996Z"
    },
    "id": "L_w96b7Sj56n",
    "papermill": {
     "duration": 280.36869,
     "end_time": "2021-04-22T11:19:19.933662",
     "exception": false,
     "start_time": "2021-04-22T11:14:39.564972",
     "status": "completed"
    },
    "tags": []
   },
   "outputs": [
    {
     "name": "stderr",
     "output_type": "stream",
     "text": [
      "/opt/conda/lib/python3.7/site-packages/category_encoders/utils.py:21: FutureWarning: is_categorical is deprecated and will be removed in a future version.  Use is_categorical_dtype instead\n",
      "  elif pd.api.types.is_categorical(cols):\n"
     ]
    },
    {
     "name": "stdout",
     "output_type": "stream",
     "text": [
      "[LightGBM] [Warning] feature_fraction is set=0.5588941289441328, colsample_bytree=1.0 will be ignored. Current value: feature_fraction=0.5588941289441328\n",
      "[LightGBM] [Warning] bagging_freq is set=51, subsample_freq=0 will be ignored. Current value: bagging_freq=51\n",
      "[LightGBM] [Warning] min_sum_hessian_in_leaf is set=36.23686299058342, min_child_weight=0.001 will be ignored. Current value: min_sum_hessian_in_leaf=36.23686299058342\n",
      "[LightGBM] [Warning] bagging_fraction is set=0.9663000952102834, subsample=1.0 will be ignored. Current value: bagging_fraction=0.9663000952102834\n",
      "CPU times: user 18min 8s, sys: 9.85 s, total: 18min 17s\n",
      "Wall time: 4min 40s\n"
     ]
    },
    {
     "data": {
      "text/plain": [
       "Pipeline(steps=[('tr',\n",
       "                 ColumnTransformer(transformers=[('num',\n",
       "                                                  Pipeline(steps=[('imputer',\n",
       "                                                                   SimpleImputer(strategy='median')),\n",
       "                                                                  ('scal',\n",
       "                                                                   None)]),\n",
       "                                                  ['Pclass', 'Age', 'SibSp',\n",
       "                                                   'Parch', 'Fare']),\n",
       "                                                 ('cat',\n",
       "                                                  Pipeline(steps=[('imputer',\n",
       "                                                                   SimpleImputer(strategy='most_frequent')),\n",
       "                                                                  ('enc',\n",
       "                                                                   TargetEncoder())]),\n",
       "                                                  Index(['Sex', 'Ticket', 'Cabin', 'Embarked'], dtype='object'))])),\n",
       "                ('lgboost',\n",
       "                 LGBMClassifier(bagging_fraction=0.9663000952102834,\n",
       "                                bagging_freq=51,\n",
       "                                feature_fraction=0.5588941289441328,\n",
       "                                learning_rate=0.0004, max_bin=631,\n",
       "                                min_child_samples=287,\n",
       "                                min_sum_hessian_in_leaf=36.23686299058342,\n",
       "                                n_estimators=20000, num_leaves=246,\n",
       "                                reg_alpha=10.794311547009851,\n",
       "                                reg_lambda=0.5872293349946798))])"
      ]
     },
     "execution_count": 48,
     "metadata": {},
     "output_type": "execute_result"
    }
   ],
   "source": [
    "%%time\n",
    "\n",
    "# обучаем обновленную модель на всей обучающей выборке\n",
    "ml_pipe3.fit(train, Y)"
   ]
  },
  {
   "cell_type": "code",
   "execution_count": 49,
   "id": "sunset-invalid",
   "metadata": {
    "execution": {
     "iopub.execute_input": "2021-04-22T11:19:20.086302Z",
     "iopub.status.busy": "2021-04-22T11:19:20.085584Z",
     "iopub.status.idle": "2021-04-22T11:22:30.819000Z",
     "shell.execute_reply": "2021-04-22T11:22:30.819502Z"
    },
    "id": "TvrX7Zx7j56n",
    "papermill": {
     "duration": 190.815179,
     "end_time": "2021-04-22T11:22:30.819681",
     "exception": false,
     "start_time": "2021-04-22T11:19:20.004502",
     "status": "completed"
    },
    "tags": []
   },
   "outputs": [
    {
     "name": "stdout",
     "output_type": "stream",
     "text": [
      "CPU times: user 12min 29s, sys: 276 ms, total: 12min 29s\n",
      "Wall time: 3min 10s\n"
     ]
    }
   ],
   "source": [
    "%%time\n",
    "\n",
    "# вычисляем вероятности для тестовой выборки\n",
    "lgbm_preds_prob = ml_pipe3.predict_proba(test_o)[:, 1]"
   ]
  },
  {
   "cell_type": "code",
   "execution_count": 50,
   "id": "ongoing-mexico",
   "metadata": {
    "execution": {
     "iopub.execute_input": "2021-04-22T11:22:30.967251Z",
     "iopub.status.busy": "2021-04-22T11:22:30.966611Z",
     "iopub.status.idle": "2021-04-22T12:04:01.618614Z",
     "shell.execute_reply": "2021-04-22T12:04:01.619163Z"
    },
    "papermill": {
     "duration": 2490.729302,
     "end_time": "2021-04-22T12:04:01.619347",
     "exception": false,
     "start_time": "2021-04-22T11:22:30.890045",
     "status": "completed"
    },
    "tags": []
   },
   "outputs": [
    {
     "data": {
      "text/plain": [
       "array([0.27137413, 0.08026366, 0.11795616, 0.09676672, 0.09667196,\n",
       "       0.14599284, 0.10414509, 0.47211236, 0.22205036, 0.64760356])"
      ]
     },
     "execution_count": 50,
     "metadata": {},
     "output_type": "execute_result"
    }
   ],
   "source": [
    "# получаем ответы (вероятности) для проверочных блоков перекрестной проверки на всей тренировочной выборке\n",
    "LGBM_probs = cross_val_predict(ml_pipe3, train, Y, cv=10, n_jobs=-1, method='predict_proba')[:,1]\n",
    "LGBM_probs[:10]"
   ]
  },
  {
   "cell_type": "code",
   "execution_count": 51,
   "id": "accompanied-customer",
   "metadata": {
    "execution": {
     "iopub.execute_input": "2021-04-22T12:04:01.769778Z",
     "iopub.status.busy": "2021-04-22T12:04:01.769044Z",
     "iopub.status.idle": "2021-04-22T12:04:01.816819Z",
     "shell.execute_reply": "2021-04-22T12:04:01.817280Z"
    },
    "papermill": {
     "duration": 0.125008,
     "end_time": "2021-04-22T12:04:01.817460",
     "exception": false,
     "start_time": "2021-04-22T12:04:01.692452",
     "status": "completed"
    },
    "tags": []
   },
   "outputs": [
    {
     "name": "stdout",
     "output_type": "stream",
     "text": [
      "AUC на всей исторической выборке: 0.854\n"
     ]
    }
   ],
   "source": [
    "print('AUC на всей исторической выборке: {:.3f}'.format(\n",
    "    roc_auc_score(Y, LGBM_probs )))"
   ]
  },
  {
   "cell_type": "code",
   "execution_count": 52,
   "id": "american-portland",
   "metadata": {
    "execution": {
     "iopub.execute_input": "2021-04-22T12:04:01.971576Z",
     "iopub.status.busy": "2021-04-22T12:04:01.970883Z",
     "iopub.status.idle": "2021-04-22T12:04:02.007921Z",
     "shell.execute_reply": "2021-04-22T12:04:02.008440Z"
    },
    "papermill": {
     "duration": 0.118245,
     "end_time": "2021-04-22T12:04:02.008616",
     "exception": false,
     "start_time": "2021-04-22T12:04:01.890371",
     "status": "completed"
    },
    "tags": []
   },
   "outputs": [
    {
     "data": {
      "text/plain": [
       "[0.44590814264567985]"
      ]
     },
     "execution_count": 52,
     "metadata": {},
     "output_type": "execute_result"
    }
   ],
   "source": [
    "# и выбираем лучшую точку порога\n",
    "def Find_Optimal_Cutoff(target, predicted):\n",
    "    fpr, tpr, threshold = roc_curve(target, predicted)\n",
    "    i = np.arange(len(tpr)) \n",
    "    roc = pd.DataFrame({'tf' : pd.Series(tpr-(1-fpr), index=i), 'threshold' : pd.Series(threshold, index=i)})\n",
    "    roc_t = roc.loc[(roc.tf-0).abs().argsort()[:1]]\n",
    "\n",
    "    return list(roc_t['threshold']) \n",
    "\n",
    "threshold = Find_Optimal_Cutoff(Y, LGBM_probs)\n",
    "\n",
    "threshold"
   ]
  },
  {
   "cell_type": "code",
   "execution_count": null,
   "id": "ordinary-notice",
   "metadata": {
    "papermill": {
     "duration": 0.072102,
     "end_time": "2021-04-22T12:04:02.153992",
     "exception": false,
     "start_time": "2021-04-22T12:04:02.081890",
     "status": "completed"
    },
    "tags": []
   },
   "outputs": [],
   "source": []
  },
  {
   "cell_type": "code",
   "execution_count": 53,
   "id": "numeric-perspective",
   "metadata": {
    "execution": {
     "iopub.execute_input": "2021-04-22T12:04:02.304846Z",
     "iopub.status.busy": "2021-04-22T12:04:02.303692Z",
     "iopub.status.idle": "2021-04-22T12:04:02.308958Z",
     "shell.execute_reply": "2021-04-22T12:04:02.308354Z"
    },
    "papermill": {
     "duration": 0.082291,
     "end_time": "2021-04-22T12:04:02.309091",
     "exception": false,
     "start_time": "2021-04-22T12:04:02.226800",
     "status": "completed"
    },
    "tags": []
   },
   "outputs": [
    {
     "data": {
      "text/plain": [
       "(array([0, 1, 1, ..., 0, 1, 1]), numpy.ndarray)"
      ]
     },
     "execution_count": 53,
     "metadata": {},
     "output_type": "execute_result"
    }
   ],
   "source": [
    "test_pred_bool = (lgbm_preds_prob >= threshold).astype(int)\n",
    "test_pred_bool,type(test_pred_bool)"
   ]
  },
  {
   "cell_type": "code",
   "execution_count": 54,
   "id": "intended-conditions",
   "metadata": {
    "execution": {
     "iopub.execute_input": "2021-04-22T12:04:02.462562Z",
     "iopub.status.busy": "2021-04-22T12:04:02.461910Z",
     "iopub.status.idle": "2021-04-22T12:04:02.772101Z",
     "shell.execute_reply": "2021-04-22T12:04:02.772589Z"
    },
    "id": "HNHBkKGvj56o",
    "papermill": {
     "duration": 0.390445,
     "end_time": "2021-04-22T12:04:02.772791",
     "exception": false,
     "start_time": "2021-04-22T12:04:02.382346",
     "status": "completed"
    },
    "tags": []
   },
   "outputs": [
    {
     "data": {
      "text/html": [
       "<div>\n",
       "<style scoped>\n",
       "    .dataframe tbody tr th:only-of-type {\n",
       "        vertical-align: middle;\n",
       "    }\n",
       "\n",
       "    .dataframe tbody tr th {\n",
       "        vertical-align: top;\n",
       "    }\n",
       "\n",
       "    .dataframe thead th {\n",
       "        text-align: right;\n",
       "    }\n",
       "</style>\n",
       "<table border=\"1\" class=\"dataframe\">\n",
       "  <thead>\n",
       "    <tr style=\"text-align: right;\">\n",
       "      <th></th>\n",
       "      <th>Survived</th>\n",
       "    </tr>\n",
       "    <tr>\n",
       "      <th>PassengerId</th>\n",
       "      <th></th>\n",
       "    </tr>\n",
       "  </thead>\n",
       "  <tbody>\n",
       "    <tr>\n",
       "      <th>100000</th>\n",
       "      <td>0</td>\n",
       "    </tr>\n",
       "    <tr>\n",
       "      <th>100001</th>\n",
       "      <td>1</td>\n",
       "    </tr>\n",
       "    <tr>\n",
       "      <th>100002</th>\n",
       "      <td>1</td>\n",
       "    </tr>\n",
       "    <tr>\n",
       "      <th>100003</th>\n",
       "      <td>0</td>\n",
       "    </tr>\n",
       "    <tr>\n",
       "      <th>100004</th>\n",
       "      <td>1</td>\n",
       "    </tr>\n",
       "    <tr>\n",
       "      <th>...</th>\n",
       "      <td>...</td>\n",
       "    </tr>\n",
       "    <tr>\n",
       "      <th>199995</th>\n",
       "      <td>1</td>\n",
       "    </tr>\n",
       "    <tr>\n",
       "      <th>199996</th>\n",
       "      <td>0</td>\n",
       "    </tr>\n",
       "    <tr>\n",
       "      <th>199997</th>\n",
       "      <td>0</td>\n",
       "    </tr>\n",
       "    <tr>\n",
       "      <th>199998</th>\n",
       "      <td>1</td>\n",
       "    </tr>\n",
       "    <tr>\n",
       "      <th>199999</th>\n",
       "      <td>1</td>\n",
       "    </tr>\n",
       "  </tbody>\n",
       "</table>\n",
       "<p>100000 rows × 1 columns</p>\n",
       "</div>"
      ],
      "text/plain": [
       "             Survived\n",
       "PassengerId          \n",
       "100000              0\n",
       "100001              1\n",
       "100002              1\n",
       "100003              0\n",
       "100004              1\n",
       "...               ...\n",
       "199995              1\n",
       "199996              0\n",
       "199997              0\n",
       "199998              1\n",
       "199999              1\n",
       "\n",
       "[100000 rows x 1 columns]"
      ]
     },
     "execution_count": 54,
     "metadata": {},
     "output_type": "execute_result"
    }
   ],
   "source": [
    "submission = pd.read_csv(input_path / ('sample_submission.' + d_ext), index_col=INDEX_COL)\n",
    "####### и формируем посылку\n",
    "submission[TARGET] = test_pred_bool\n",
    "if  WHERE_PLACE == \"kaggle\":\n",
    "    submission.to_csv(NAME_OUTPUT_FILE+'.'+d_ext)\n",
    "else:    \n",
    "    submission.to_csv(input_path / (NAME_OUTPUT_FILE+'.'+d_ext))\n",
    "\n",
    "submission"
   ]
  },
  {
   "cell_type": "code",
   "execution_count": 55,
   "id": "inner-newsletter",
   "metadata": {
    "execution": {
     "iopub.execute_input": "2021-04-22T12:04:02.929001Z",
     "iopub.status.busy": "2021-04-22T12:04:02.928191Z",
     "iopub.status.idle": "2021-04-22T12:04:02.933145Z",
     "shell.execute_reply": "2021-04-22T12:04:02.932644Z"
    },
    "id": "qnHI4879j56o",
    "papermill": {
     "duration": 0.087257,
     "end_time": "2021-04-22T12:04:02.933296",
     "exception": false,
     "start_time": "2021-04-22T12:04:02.846039",
     "status": "completed"
    },
    "tags": []
   },
   "outputs": [
    {
     "name": "stdout",
     "output_type": "stream",
     "text": [
      "Duration: 0.0 hours 49.0 minutes 39.29399847984314 seconds.\n",
      "\n",
      "\n",
      "Время окончания работы скрипта: 22-04-2021 12:04\n",
      "***********************\n",
      "\n"
     ]
    }
   ],
   "source": [
    "end_time = time()\n",
    "time_taken = end_time - start_time # time_taken is in seconds\n",
    "hours, rest = divmod(time_taken,3600)\n",
    "minutes, seconds = divmod(rest, 60)\n",
    "print('Duration: {} hours {} minutes {} seconds.'.format(hours, minutes, seconds))\n",
    "print('\\n\\nВремя окончания работы скрипта: {}\\n***********************\\n'.format(datetime.datetime.now().strftime(\"%d-%m-%Y %H:%M\")))\n",
    "with open(NAME_RUN_LOG, 'at', encoding='utf-8') as logfile:\n",
    "    print('\\n\\nВремя окончания работы скрипта: {}\\n***********************\\n'.format(datetime.datetime.now().strftime(\"%d-%m-%Y %H:%M\")), \n",
    "          file=logfile)"
   ]
  },
  {
   "cell_type": "code",
   "execution_count": 56,
   "id": "quarterly-brief",
   "metadata": {
    "execution": {
     "iopub.execute_input": "2021-04-22T12:04:03.086358Z",
     "iopub.status.busy": "2021-04-22T12:04:03.085462Z",
     "iopub.status.idle": "2021-04-22T12:04:03.089439Z",
     "shell.execute_reply": "2021-04-22T12:04:03.088809Z"
    },
    "papermill": {
     "duration": 0.082435,
     "end_time": "2021-04-22T12:04:03.089580",
     "exception": false,
     "start_time": "2021-04-22T12:04:03.007145",
     "status": "completed"
    },
    "tags": []
   },
   "outputs": [],
   "source": [
    "#ml_pipe3.get_params()"
   ]
  },
  {
   "cell_type": "markdown",
   "id": "protecting-retention",
   "metadata": {
    "papermill": {
     "duration": 0.074995,
     "end_time": "2021-04-22T12:04:03.243848",
     "exception": false,
     "start_time": "2021-04-22T12:04:03.168853",
     "status": "completed"
    },
    "tags": []
   },
   "source": [
    "# Для использование в дальнейшем стекинге:"
   ]
  },
  {
   "cell_type": "code",
   "execution_count": 57,
   "id": "disturbed-parker",
   "metadata": {
    "execution": {
     "iopub.execute_input": "2021-04-22T12:04:03.729968Z",
     "iopub.status.busy": "2021-04-22T12:04:03.728919Z",
     "iopub.status.idle": "2021-04-22T12:04:04.221448Z",
     "shell.execute_reply": "2021-04-22T12:04:04.220793Z"
    },
    "papermill": {
     "duration": 0.902647,
     "end_time": "2021-04-22T12:04:04.221599",
     "exception": false,
     "start_time": "2021-04-22T12:04:03.318952",
     "status": "completed"
    },
    "tags": []
   },
   "outputs": [
    {
     "data": {
      "text/plain": [
       "array([0.10353605, 0.55137373, 0.91574437, 0.20243069, 0.79767882,\n",
       "       0.24027041, 0.71054816, 0.12893088, 0.41797068, 0.12865863])"
      ]
     },
     "execution_count": 57,
     "metadata": {},
     "output_type": "execute_result"
    }
   ],
   "source": [
    "np.savetxt(NAME_OUTPUT_FOR_STAKING_TEST, lgbm_preds_prob )\n",
    "# Проверим\n",
    "new_num_arr = np.loadtxt(NAME_OUTPUT_FOR_STAKING_TEST)\n",
    "new_num_arr[:10]"
   ]
  },
  {
   "cell_type": "code",
   "execution_count": 58,
   "id": "broadband-check",
   "metadata": {
    "execution": {
     "iopub.execute_input": "2021-04-22T12:04:04.382022Z",
     "iopub.status.busy": "2021-04-22T12:04:04.381201Z",
     "iopub.status.idle": "2021-04-22T12:04:04.714415Z",
     "shell.execute_reply": "2021-04-22T12:04:04.713830Z"
    },
    "papermill": {
     "duration": 0.415175,
     "end_time": "2021-04-22T12:04:04.714554",
     "exception": false,
     "start_time": "2021-04-22T12:04:04.299379",
     "status": "completed"
    },
    "tags": []
   },
   "outputs": [],
   "source": [
    "#XGBM_probs.to_csv(\"XGBM_probs_for_staking(v1)_TEST\"+'.'+d_ext)\n",
    "np.savetxt(NAME_OUTPUT_FOR_STAKING, LGBM_probs )"
   ]
  },
  {
   "cell_type": "code",
   "execution_count": 59,
   "id": "experimental-piece",
   "metadata": {
    "execution": {
     "iopub.execute_input": "2021-04-22T12:04:05.359128Z",
     "iopub.status.busy": "2021-04-22T12:04:05.115177Z",
     "iopub.status.idle": "2021-04-22T12:04:05.367261Z",
     "shell.execute_reply": "2021-04-22T12:04:05.367805Z"
    },
    "papermill": {
     "duration": 0.577077,
     "end_time": "2021-04-22T12:04:05.367991",
     "exception": false,
     "start_time": "2021-04-22T12:04:04.790914",
     "status": "completed"
    },
    "tags": []
   },
   "outputs": [
    {
     "data": {
      "text/plain": [
       "array([0.27137413, 0.08026366, 0.11795616, 0.09676672, 0.09667196,\n",
       "       0.14599284, 0.10414509, 0.47211236, 0.22205036, 0.64760356])"
      ]
     },
     "execution_count": 59,
     "metadata": {},
     "output_type": "execute_result"
    }
   ],
   "source": [
    "new_num_arr = np.loadtxt(NAME_OUTPUT_FOR_STAKING)\n",
    "new_num_arr[:10]"
   ]
  }
 ],
 "metadata": {
  "kernelspec": {
   "display_name": "Python 3",
   "language": "python",
   "name": "python3"
  },
  "language_info": {
   "codemirror_mode": {
    "name": "ipython",
    "version": 3
   },
   "file_extension": ".py",
   "mimetype": "text/x-python",
   "name": "python",
   "nbconvert_exporter": "python",
   "pygments_lexer": "ipython3",
   "version": "3.7.9"
  },
  "papermill": {
   "default_parameters": {},
   "duration": 2990.228571,
   "end_time": "2021-04-22T12:04:06.760720",
   "environment_variables": {},
   "exception": null,
   "input_path": "__notebook__.ipynb",
   "output_path": "__notebook__.ipynb",
   "parameters": {},
   "start_time": "2021-04-22T11:14:16.532149",
   "version": "2.3.2"
  }
 },
 "nbformat": 4,
 "nbformat_minor": 5
}
